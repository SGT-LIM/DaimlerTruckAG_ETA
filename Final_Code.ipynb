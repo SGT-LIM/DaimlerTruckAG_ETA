{
 "cells": [
  {
   "cell_type": "code",
   "execution_count": 1,
   "id": "402ecfad",
   "metadata": {},
   "outputs": [],
   "source": [
    "import random\n",
    "import datetime\n",
    "import pandas as pd\n",
    "import numpy as np\n",
    "from haversine import haversine\n",
    "import folium\n",
    "from datetime import datetime\n",
    "import time\n",
    "from tqdm import tqdm\n",
    "import gc\n",
    "import geopy.distance\n",
    "import seaborn as sns\n",
    "import shap\n",
    "import matplotlib.pyplot as plt\n",
    "from catboost import CatBoostRegressor\n",
    "from sklearn.model_selection import train_test_split\n",
    "from sklearn.metrics import mean_squared_error,mean_absolute_error, r2_score\n",
    "import pickle\n",
    "from tqdm import tqdm"
   ]
  },
  {
   "cell_type": "markdown",
   "id": "c2e11507",
   "metadata": {},
   "source": [
    "# Load Data"
   ]
  },
  {
   "cell_type": "code",
   "execution_count": 2,
   "id": "a933b062",
   "metadata": {},
   "outputs": [],
   "source": [
    "df1 = pd.read_csv(\"./data/gps_fulldata_20220512_20220819.csv\", encoding='shift_jis', usecols=[0,1,2,4,6])\n",
    "df2 = pd.read_csv(\"./data/gps_20220820_20221107.csv\", encoding='shift_jis', usecols=[1,2,3,5,7])"
   ]
  },
  {
   "cell_type": "code",
   "execution_count": 3,
   "id": "f93c9d70",
   "metadata": {},
   "outputs": [
    {
     "data": {
      "text/html": [
       "<div>\n",
       "<style scoped>\n",
       "    .dataframe tbody tr th:only-of-type {\n",
       "        vertical-align: middle;\n",
       "    }\n",
       "\n",
       "    .dataframe tbody tr th {\n",
       "        vertical-align: top;\n",
       "    }\n",
       "\n",
       "    .dataframe thead th {\n",
       "        text-align: right;\n",
       "    }\n",
       "</style>\n",
       "<table border=\"1\" class=\"dataframe\">\n",
       "  <thead>\n",
       "    <tr style=\"text-align: right;\">\n",
       "      <th></th>\n",
       "      <th>vehicleCode</th>\n",
       "      <th>lat</th>\n",
       "      <th>lng</th>\n",
       "      <th>timestamp</th>\n",
       "      <th>distance</th>\n",
       "    </tr>\n",
       "  </thead>\n",
       "  <tbody>\n",
       "    <tr>\n",
       "      <th>0</th>\n",
       "      <td>W1</td>\n",
       "      <td>35.081511</td>\n",
       "      <td>136.931423</td>\n",
       "      <td>2022-05-12T06:41:13+09:00</td>\n",
       "      <td>0.000000</td>\n",
       "    </tr>\n",
       "    <tr>\n",
       "      <th>1</th>\n",
       "      <td>W1</td>\n",
       "      <td>35.081820</td>\n",
       "      <td>136.931295</td>\n",
       "      <td>2022-05-12T06:49:47+09:00</td>\n",
       "      <td>36.214071</td>\n",
       "    </tr>\n",
       "    <tr>\n",
       "      <th>2</th>\n",
       "      <td>W1</td>\n",
       "      <td>35.081825</td>\n",
       "      <td>136.931280</td>\n",
       "      <td>2022-05-12T06:50:34+09:00</td>\n",
       "      <td>1.476148</td>\n",
       "    </tr>\n",
       "    <tr>\n",
       "      <th>3</th>\n",
       "      <td>W1</td>\n",
       "      <td>35.081957</td>\n",
       "      <td>136.931339</td>\n",
       "      <td>2022-05-12T06:50:39+09:00</td>\n",
       "      <td>15.601548</td>\n",
       "    </tr>\n",
       "    <tr>\n",
       "      <th>4</th>\n",
       "      <td>W1</td>\n",
       "      <td>35.082085</td>\n",
       "      <td>136.931459</td>\n",
       "      <td>2022-05-12T06:50:44+09:00</td>\n",
       "      <td>17.928186</td>\n",
       "    </tr>\n",
       "    <tr>\n",
       "      <th>...</th>\n",
       "      <td>...</td>\n",
       "      <td>...</td>\n",
       "      <td>...</td>\n",
       "      <td>...</td>\n",
       "      <td>...</td>\n",
       "    </tr>\n",
       "    <tr>\n",
       "      <th>33839770</th>\n",
       "      <td>座間エンジン（3時区）-2</td>\n",
       "      <td>35.501584</td>\n",
       "      <td>139.439746</td>\n",
       "      <td>2022-11-04T16:55:42+09:00</td>\n",
       "      <td>4.121708</td>\n",
       "    </tr>\n",
       "    <tr>\n",
       "      <th>33839771</th>\n",
       "      <td>座間エンジン（3時区）-2</td>\n",
       "      <td>35.501576</td>\n",
       "      <td>139.439728</td>\n",
       "      <td>2022-11-04T16:55:48+09:00</td>\n",
       "      <td>1.858719</td>\n",
       "    </tr>\n",
       "    <tr>\n",
       "      <th>33839772</th>\n",
       "      <td>座間エンジン（3時区）-2</td>\n",
       "      <td>35.501510</td>\n",
       "      <td>139.439645</td>\n",
       "      <td>2022-11-04T16:55:53+09:00</td>\n",
       "      <td>10.503742</td>\n",
       "    </tr>\n",
       "    <tr>\n",
       "      <th>33839773</th>\n",
       "      <td>座間エンジン（3時区）-2</td>\n",
       "      <td>35.501472</td>\n",
       "      <td>139.439588</td>\n",
       "      <td>2022-11-04T16:55:58+09:00</td>\n",
       "      <td>6.672303</td>\n",
       "    </tr>\n",
       "    <tr>\n",
       "      <th>33839774</th>\n",
       "      <td>座間エンジン（3時区）-2</td>\n",
       "      <td>35.501484</td>\n",
       "      <td>139.439587</td>\n",
       "      <td>2022-11-04T16:56:03+09:00</td>\n",
       "      <td>1.334485</td>\n",
       "    </tr>\n",
       "  </tbody>\n",
       "</table>\n",
       "<p>33839775 rows × 5 columns</p>\n",
       "</div>"
      ],
      "text/plain": [
       "            vehicleCode        lat         lng                  timestamp  \\\n",
       "0                    W1  35.081511  136.931423  2022-05-12T06:41:13+09:00   \n",
       "1                    W1  35.081820  136.931295  2022-05-12T06:49:47+09:00   \n",
       "2                    W1  35.081825  136.931280  2022-05-12T06:50:34+09:00   \n",
       "3                    W1  35.081957  136.931339  2022-05-12T06:50:39+09:00   \n",
       "4                    W1  35.082085  136.931459  2022-05-12T06:50:44+09:00   \n",
       "...                 ...        ...         ...                        ...   \n",
       "33839770  座間エンジン（3時区）-2  35.501584  139.439746  2022-11-04T16:55:42+09:00   \n",
       "33839771  座間エンジン（3時区）-2  35.501576  139.439728  2022-11-04T16:55:48+09:00   \n",
       "33839772  座間エンジン（3時区）-2  35.501510  139.439645  2022-11-04T16:55:53+09:00   \n",
       "33839773  座間エンジン（3時区）-2  35.501472  139.439588  2022-11-04T16:55:58+09:00   \n",
       "33839774  座間エンジン（3時区）-2  35.501484  139.439587  2022-11-04T16:56:03+09:00   \n",
       "\n",
       "           distance  \n",
       "0          0.000000  \n",
       "1         36.214071  \n",
       "2          1.476148  \n",
       "3         15.601548  \n",
       "4         17.928186  \n",
       "...             ...  \n",
       "33839770   4.121708  \n",
       "33839771   1.858719  \n",
       "33839772  10.503742  \n",
       "33839773   6.672303  \n",
       "33839774   1.334485  \n",
       "\n",
       "[33839775 rows x 5 columns]"
      ]
     },
     "execution_count": 3,
     "metadata": {},
     "output_type": "execute_result"
    }
   ],
   "source": [
    "df = pd.concat([df1, df2],axis=0)\n",
    "df.sort_values(by=['vehicleCode', 'timestamp'], axis=0, inplace=True)\n",
    "df.reset_index(drop=True, inplace=True)\n",
    "df"
   ]
  },
  {
   "cell_type": "code",
   "execution_count": 4,
   "id": "c960e114",
   "metadata": {},
   "outputs": [],
   "source": [
    "del [[df1, df2]]\n",
    "gc.collect()\n",
    "df1 = pd.DataFrame()\n",
    "df2 = pd.DataFrame()"
   ]
  },
  {
   "cell_type": "code",
   "execution_count": 5,
   "id": "0010a247",
   "metadata": {},
   "outputs": [],
   "source": [
    "target_df = df.copy()"
   ]
  },
  {
   "cell_type": "markdown",
   "id": "181a31f7",
   "metadata": {},
   "source": [
    "# Data preprocessing"
   ]
  },
  {
   "cell_type": "code",
   "execution_count": 6,
   "id": "9fe352bf",
   "metadata": {},
   "outputs": [],
   "source": [
    "target_df['coord'] = target_df[['lat','lng']].apply(lambda x :tuple(x.values), axis=1)"
   ]
  },
  {
   "cell_type": "markdown",
   "id": "a8ac898f",
   "metadata": {},
   "source": [
    "## Define location of each timestamp\n",
    "- Returns the index of the factory(1,2,3,4) if the location is in the scope of the factory\n",
    "- Else returns 0"
   ]
  },
  {
   "cell_type": "code",
   "execution_count": 7,
   "id": "23d17eea",
   "metadata": {},
   "outputs": [
    {
     "data": {
      "text/html": [
       "<div>\n",
       "<style scoped>\n",
       "    .dataframe tbody tr th:only-of-type {\n",
       "        vertical-align: middle;\n",
       "    }\n",
       "\n",
       "    .dataframe tbody tr th {\n",
       "        vertical-align: top;\n",
       "    }\n",
       "\n",
       "    .dataframe thead th {\n",
       "        text-align: right;\n",
       "    }\n",
       "</style>\n",
       "<table border=\"1\" class=\"dataframe\">\n",
       "  <thead>\n",
       "    <tr style=\"text-align: right;\">\n",
       "      <th></th>\n",
       "      <th>vehicleCode</th>\n",
       "      <th>lat</th>\n",
       "      <th>lng</th>\n",
       "      <th>timestamp</th>\n",
       "      <th>distance</th>\n",
       "      <th>coord</th>\n",
       "      <th>location</th>\n",
       "    </tr>\n",
       "  </thead>\n",
       "  <tbody>\n",
       "    <tr>\n",
       "      <th>0</th>\n",
       "      <td>W1</td>\n",
       "      <td>35.081511</td>\n",
       "      <td>136.931423</td>\n",
       "      <td>2022-05-12T06:41:13+09:00</td>\n",
       "      <td>0.000000</td>\n",
       "      <td>(35.081511, 136.931423)</td>\n",
       "      <td>0</td>\n",
       "    </tr>\n",
       "    <tr>\n",
       "      <th>1</th>\n",
       "      <td>W1</td>\n",
       "      <td>35.081820</td>\n",
       "      <td>136.931295</td>\n",
       "      <td>2022-05-12T06:49:47+09:00</td>\n",
       "      <td>36.214071</td>\n",
       "      <td>(35.08182, 136.931295)</td>\n",
       "      <td>0</td>\n",
       "    </tr>\n",
       "    <tr>\n",
       "      <th>2</th>\n",
       "      <td>W1</td>\n",
       "      <td>35.081825</td>\n",
       "      <td>136.931280</td>\n",
       "      <td>2022-05-12T06:50:34+09:00</td>\n",
       "      <td>1.476148</td>\n",
       "      <td>(35.081825, 136.93128)</td>\n",
       "      <td>0</td>\n",
       "    </tr>\n",
       "    <tr>\n",
       "      <th>3</th>\n",
       "      <td>W1</td>\n",
       "      <td>35.081957</td>\n",
       "      <td>136.931339</td>\n",
       "      <td>2022-05-12T06:50:39+09:00</td>\n",
       "      <td>15.601548</td>\n",
       "      <td>(35.081957, 136.931339)</td>\n",
       "      <td>0</td>\n",
       "    </tr>\n",
       "    <tr>\n",
       "      <th>4</th>\n",
       "      <td>W1</td>\n",
       "      <td>35.082085</td>\n",
       "      <td>136.931459</td>\n",
       "      <td>2022-05-12T06:50:44+09:00</td>\n",
       "      <td>17.928186</td>\n",
       "      <td>(35.082085, 136.931459)</td>\n",
       "      <td>0</td>\n",
       "    </tr>\n",
       "  </tbody>\n",
       "</table>\n",
       "</div>"
      ],
      "text/plain": [
       "  vehicleCode        lat         lng                  timestamp   distance  \\\n",
       "0          W1  35.081511  136.931423  2022-05-12T06:41:13+09:00   0.000000   \n",
       "1          W1  35.081820  136.931295  2022-05-12T06:49:47+09:00  36.214071   \n",
       "2          W1  35.081825  136.931280  2022-05-12T06:50:34+09:00   1.476148   \n",
       "3          W1  35.081957  136.931339  2022-05-12T06:50:39+09:00  15.601548   \n",
       "4          W1  35.082085  136.931459  2022-05-12T06:50:44+09:00  17.928186   \n",
       "\n",
       "                     coord  location  \n",
       "0  (35.081511, 136.931423)         0  \n",
       "1   (35.08182, 136.931295)         0  \n",
       "2   (35.081825, 136.93128)         0  \n",
       "3  (35.081957, 136.931339)         0  \n",
       "4  (35.082085, 136.931459)         0  "
      ]
     },
     "execution_count": 7,
     "metadata": {},
     "output_type": "execute_result"
    }
   ],
   "source": [
    "target_place = {}\n",
    "target_place[1] = (35.50116466410529, 139.7705922117356) # \"Higashi-Ogishima\"\n",
    "target_place[2] = (35.55769134902504, 139.66477025889324) # \"K1\"\n",
    "target_place[3] = (35.47115639628905, 139.36695126985464) # \"Atsugi\"\n",
    "target_place[4] = (35.520388068094086, 139.3521451687072) # \"Nakatsu\"\n",
    "\n",
    "def get_gps_location(location, radi):\n",
    "    for i in target_place.keys():\n",
    "        if(haversine(location, target_place[i]) < radi):\n",
    "            return i\n",
    "    return 0\n",
    "\n",
    "radi = 0.3 # 300m\n",
    "target_df['location'] = target_df['coord'].apply(lambda x : get_gps_location(x, radi))\n",
    "target_df.head()"
   ]
  },
  {
   "cell_type": "code",
   "execution_count": 8,
   "id": "1461cfd6",
   "metadata": {},
   "outputs": [
    {
     "name": "stdout",
     "output_type": "stream",
     "text": [
      "['W102', 'W103', 'W104', 'W105', 'W106', 'W108', 'W109', 'W110', 'W111', 'W112', 'W113', 'W114', 'W115', 'W117', 'W118', 'W119', 'W120-1', 'W120-2', 'W40-1', 'W40-2', 'W41-1', 'W41-2', 'W42-1', 'W42-2', 'W44-1', 'W44-2', 'W44-スポット', 'W45-1', 'W45-2', 'W46', 'W46-スポット', 'W47-1', 'W47-2', 'W47-3', 'W52', 'W53', 'W54', 'W70', 'W72', 'W73', 'W74', 'W75', 'W76', 'W77', 'W78', 'W79', 'W80', 'W82-2', 'W84', 'W87-1', 'W87-2', 'W88', 'W90', 'W91', 'W92-1', 'W93-1', 'W93-2', 'W94', 'W95-1', 'W95-2', 'W97-1', 'W97-2', 'W98-1', 'W98-2', '座間エンジン（1・2・4時区）-1', '座間エンジン（1・2・4時区）-2', '座間エンジン（3時区）-1', '座間エンジン（3時区）-2']\n"
     ]
    }
   ],
   "source": [
    "# Select vehicleCode that only passes 4 factories\n",
    "\n",
    "target_pass_result= list(target_df[target_df['location']!=0]['vehicleCode'].unique())\n",
    "print(target_pass_result)"
   ]
  },
  {
   "cell_type": "code",
   "execution_count": 9,
   "id": "3542e493",
   "metadata": {},
   "outputs": [
    {
     "data": {
      "text/html": [
       "<div>\n",
       "<style scoped>\n",
       "    .dataframe tbody tr th:only-of-type {\n",
       "        vertical-align: middle;\n",
       "    }\n",
       "\n",
       "    .dataframe tbody tr th {\n",
       "        vertical-align: top;\n",
       "    }\n",
       "\n",
       "    .dataframe thead th {\n",
       "        text-align: right;\n",
       "    }\n",
       "</style>\n",
       "<table border=\"1\" class=\"dataframe\">\n",
       "  <thead>\n",
       "    <tr style=\"text-align: right;\">\n",
       "      <th></th>\n",
       "      <th>vehicleCode</th>\n",
       "      <th>lat</th>\n",
       "      <th>lng</th>\n",
       "      <th>timestamp</th>\n",
       "      <th>distance</th>\n",
       "      <th>coord</th>\n",
       "      <th>location</th>\n",
       "    </tr>\n",
       "  </thead>\n",
       "  <tbody>\n",
       "    <tr>\n",
       "      <th>0</th>\n",
       "      <td>W102</td>\n",
       "      <td>35.534938</td>\n",
       "      <td>139.651564</td>\n",
       "      <td>2022-05-12T03:49:19+09:00</td>\n",
       "      <td>40.923383</td>\n",
       "      <td>(35.534938, 139.651564)</td>\n",
       "      <td>0</td>\n",
       "    </tr>\n",
       "    <tr>\n",
       "      <th>1</th>\n",
       "      <td>W102</td>\n",
       "      <td>35.534921</td>\n",
       "      <td>139.651580</td>\n",
       "      <td>2022-05-12T03:49:20+09:00</td>\n",
       "      <td>2.379729</td>\n",
       "      <td>(35.534921, 139.65158)</td>\n",
       "      <td>0</td>\n",
       "    </tr>\n",
       "    <tr>\n",
       "      <th>2</th>\n",
       "      <td>W102</td>\n",
       "      <td>35.534921</td>\n",
       "      <td>139.651580</td>\n",
       "      <td>2022-05-12T03:49:24+09:00</td>\n",
       "      <td>0.000000</td>\n",
       "      <td>(35.534921, 139.65158)</td>\n",
       "      <td>0</td>\n",
       "    </tr>\n",
       "    <tr>\n",
       "      <th>3</th>\n",
       "      <td>W102</td>\n",
       "      <td>35.534921</td>\n",
       "      <td>139.651580</td>\n",
       "      <td>2022-05-12T03:49:29+09:00</td>\n",
       "      <td>0.000000</td>\n",
       "      <td>(35.534921, 139.65158)</td>\n",
       "      <td>0</td>\n",
       "    </tr>\n",
       "    <tr>\n",
       "      <th>4</th>\n",
       "      <td>W102</td>\n",
       "      <td>35.534976</td>\n",
       "      <td>139.651498</td>\n",
       "      <td>2022-05-12T03:49:31+09:00</td>\n",
       "      <td>9.619799</td>\n",
       "      <td>(35.534976, 139.651498)</td>\n",
       "      <td>0</td>\n",
       "    </tr>\n",
       "    <tr>\n",
       "      <th>...</th>\n",
       "      <td>...</td>\n",
       "      <td>...</td>\n",
       "      <td>...</td>\n",
       "      <td>...</td>\n",
       "      <td>...</td>\n",
       "      <td>...</td>\n",
       "      <td>...</td>\n",
       "    </tr>\n",
       "    <tr>\n",
       "      <th>26727857</th>\n",
       "      <td>座間エンジン（3時区）-2</td>\n",
       "      <td>35.501584</td>\n",
       "      <td>139.439746</td>\n",
       "      <td>2022-11-04T16:55:42+09:00</td>\n",
       "      <td>4.121708</td>\n",
       "      <td>(35.501584, 139.439746)</td>\n",
       "      <td>0</td>\n",
       "    </tr>\n",
       "    <tr>\n",
       "      <th>26727858</th>\n",
       "      <td>座間エンジン（3時区）-2</td>\n",
       "      <td>35.501576</td>\n",
       "      <td>139.439728</td>\n",
       "      <td>2022-11-04T16:55:48+09:00</td>\n",
       "      <td>1.858719</td>\n",
       "      <td>(35.501576, 139.439728)</td>\n",
       "      <td>0</td>\n",
       "    </tr>\n",
       "    <tr>\n",
       "      <th>26727859</th>\n",
       "      <td>座間エンジン（3時区）-2</td>\n",
       "      <td>35.501510</td>\n",
       "      <td>139.439645</td>\n",
       "      <td>2022-11-04T16:55:53+09:00</td>\n",
       "      <td>10.503742</td>\n",
       "      <td>(35.50151, 139.439645)</td>\n",
       "      <td>0</td>\n",
       "    </tr>\n",
       "    <tr>\n",
       "      <th>26727860</th>\n",
       "      <td>座間エンジン（3時区）-2</td>\n",
       "      <td>35.501472</td>\n",
       "      <td>139.439588</td>\n",
       "      <td>2022-11-04T16:55:58+09:00</td>\n",
       "      <td>6.672303</td>\n",
       "      <td>(35.501472, 139.439588)</td>\n",
       "      <td>0</td>\n",
       "    </tr>\n",
       "    <tr>\n",
       "      <th>26727861</th>\n",
       "      <td>座間エンジン（3時区）-2</td>\n",
       "      <td>35.501484</td>\n",
       "      <td>139.439587</td>\n",
       "      <td>2022-11-04T16:56:03+09:00</td>\n",
       "      <td>1.334485</td>\n",
       "      <td>(35.501484, 139.439587)</td>\n",
       "      <td>0</td>\n",
       "    </tr>\n",
       "  </tbody>\n",
       "</table>\n",
       "<p>26727862 rows × 7 columns</p>\n",
       "</div>"
      ],
      "text/plain": [
       "            vehicleCode        lat         lng                  timestamp  \\\n",
       "0                  W102  35.534938  139.651564  2022-05-12T03:49:19+09:00   \n",
       "1                  W102  35.534921  139.651580  2022-05-12T03:49:20+09:00   \n",
       "2                  W102  35.534921  139.651580  2022-05-12T03:49:24+09:00   \n",
       "3                  W102  35.534921  139.651580  2022-05-12T03:49:29+09:00   \n",
       "4                  W102  35.534976  139.651498  2022-05-12T03:49:31+09:00   \n",
       "...                 ...        ...         ...                        ...   \n",
       "26727857  座間エンジン（3時区）-2  35.501584  139.439746  2022-11-04T16:55:42+09:00   \n",
       "26727858  座間エンジン（3時区）-2  35.501576  139.439728  2022-11-04T16:55:48+09:00   \n",
       "26727859  座間エンジン（3時区）-2  35.501510  139.439645  2022-11-04T16:55:53+09:00   \n",
       "26727860  座間エンジン（3時区）-2  35.501472  139.439588  2022-11-04T16:55:58+09:00   \n",
       "26727861  座間エンジン（3時区）-2  35.501484  139.439587  2022-11-04T16:56:03+09:00   \n",
       "\n",
       "           distance                    coord  location  \n",
       "0         40.923383  (35.534938, 139.651564)         0  \n",
       "1          2.379729   (35.534921, 139.65158)         0  \n",
       "2          0.000000   (35.534921, 139.65158)         0  \n",
       "3          0.000000   (35.534921, 139.65158)         0  \n",
       "4          9.619799  (35.534976, 139.651498)         0  \n",
       "...             ...                      ...       ...  \n",
       "26727857   4.121708  (35.501584, 139.439746)         0  \n",
       "26727858   1.858719  (35.501576, 139.439728)         0  \n",
       "26727859  10.503742   (35.50151, 139.439645)         0  \n",
       "26727860   6.672303  (35.501472, 139.439588)         0  \n",
       "26727861   1.334485  (35.501484, 139.439587)         0  \n",
       "\n",
       "[26727862 rows x 7 columns]"
      ]
     },
     "execution_count": 9,
     "metadata": {},
     "output_type": "execute_result"
    }
   ],
   "source": [
    "target_df= target_df[target_df['vehicleCode'].isin(target_pass_result)]\n",
    "target_df.reset_index(drop=True, inplace=True)\n",
    "target_df"
   ]
  },
  {
   "cell_type": "markdown",
   "id": "b211eb56",
   "metadata": {},
   "source": [
    "## Remove outlier"
   ]
  },
  {
   "cell_type": "code",
   "execution_count": 10,
   "id": "1ca5b240",
   "metadata": {
    "scrolled": true
   },
   "outputs": [
    {
     "data": {
      "text/html": [
       "<div>\n",
       "<style scoped>\n",
       "    .dataframe tbody tr th:only-of-type {\n",
       "        vertical-align: middle;\n",
       "    }\n",
       "\n",
       "    .dataframe tbody tr th {\n",
       "        vertical-align: top;\n",
       "    }\n",
       "\n",
       "    .dataframe thead th {\n",
       "        text-align: right;\n",
       "    }\n",
       "</style>\n",
       "<table border=\"1\" class=\"dataframe\">\n",
       "  <thead>\n",
       "    <tr style=\"text-align: right;\">\n",
       "      <th></th>\n",
       "      <th>vehicleCode</th>\n",
       "      <th>lat</th>\n",
       "      <th>lng</th>\n",
       "      <th>timestamp</th>\n",
       "      <th>distance</th>\n",
       "      <th>coord</th>\n",
       "      <th>location</th>\n",
       "      <th>is_outlier</th>\n",
       "    </tr>\n",
       "  </thead>\n",
       "  <tbody>\n",
       "    <tr>\n",
       "      <th>0</th>\n",
       "      <td>W102</td>\n",
       "      <td>35.534938</td>\n",
       "      <td>139.651564</td>\n",
       "      <td>2022-05-12T03:49:19+09:00</td>\n",
       "      <td>40.923383</td>\n",
       "      <td>(35.534938, 139.651564)</td>\n",
       "      <td>0</td>\n",
       "      <td>0</td>\n",
       "    </tr>\n",
       "    <tr>\n",
       "      <th>1</th>\n",
       "      <td>W102</td>\n",
       "      <td>35.534921</td>\n",
       "      <td>139.651580</td>\n",
       "      <td>2022-05-12T03:49:20+09:00</td>\n",
       "      <td>2.379729</td>\n",
       "      <td>(35.534921, 139.65158)</td>\n",
       "      <td>0</td>\n",
       "      <td>0</td>\n",
       "    </tr>\n",
       "    <tr>\n",
       "      <th>2</th>\n",
       "      <td>W102</td>\n",
       "      <td>35.534921</td>\n",
       "      <td>139.651580</td>\n",
       "      <td>2022-05-12T03:49:24+09:00</td>\n",
       "      <td>0.000000</td>\n",
       "      <td>(35.534921, 139.65158)</td>\n",
       "      <td>0</td>\n",
       "      <td>0</td>\n",
       "    </tr>\n",
       "    <tr>\n",
       "      <th>3</th>\n",
       "      <td>W102</td>\n",
       "      <td>35.534921</td>\n",
       "      <td>139.651580</td>\n",
       "      <td>2022-05-12T03:49:29+09:00</td>\n",
       "      <td>0.000000</td>\n",
       "      <td>(35.534921, 139.65158)</td>\n",
       "      <td>0</td>\n",
       "      <td>0</td>\n",
       "    </tr>\n",
       "    <tr>\n",
       "      <th>4</th>\n",
       "      <td>W102</td>\n",
       "      <td>35.534976</td>\n",
       "      <td>139.651498</td>\n",
       "      <td>2022-05-12T03:49:31+09:00</td>\n",
       "      <td>9.619799</td>\n",
       "      <td>(35.534976, 139.651498)</td>\n",
       "      <td>0</td>\n",
       "      <td>0</td>\n",
       "    </tr>\n",
       "  </tbody>\n",
       "</table>\n",
       "</div>"
      ],
      "text/plain": [
       "  vehicleCode        lat         lng                  timestamp   distance  \\\n",
       "0        W102  35.534938  139.651564  2022-05-12T03:49:19+09:00  40.923383   \n",
       "1        W102  35.534921  139.651580  2022-05-12T03:49:20+09:00   2.379729   \n",
       "2        W102  35.534921  139.651580  2022-05-12T03:49:24+09:00   0.000000   \n",
       "3        W102  35.534921  139.651580  2022-05-12T03:49:29+09:00   0.000000   \n",
       "4        W102  35.534976  139.651498  2022-05-12T03:49:31+09:00   9.619799   \n",
       "\n",
       "                     coord  location  is_outlier  \n",
       "0  (35.534938, 139.651564)         0           0  \n",
       "1   (35.534921, 139.65158)         0           0  \n",
       "2   (35.534921, 139.65158)         0           0  \n",
       "3   (35.534921, 139.65158)         0           0  \n",
       "4  (35.534976, 139.651498)         0           0  "
      ]
     },
     "execution_count": 10,
     "metadata": {},
     "output_type": "execute_result"
    }
   ],
   "source": [
    "lng_margin = [130.8754025956282,143.49215552451497]\n",
    "lat_margin = [31.939262095093653,39.08345291592023]\n",
    "\n",
    "def check_outlier(value):\n",
    "    lat, lng = value\n",
    "    if ((lng<lng_margin[0]) | (lng>lng_margin[1])|(lat<lat_margin[0]) | (lat>lat_margin[1])):\n",
    "        return 1\n",
    "    else :\n",
    "        return 0\n",
    "\n",
    "target_df['is_outlier'] = target_df['coord'].apply(lambda x : check_outlier(x))\n",
    "target_df.drop(target_df[target_df['is_outlier']==1].index, inplace = True)\n",
    "# target_df.drop(columns=['coord','is_outlier'],axis=1,inplace=True)\n",
    "\n",
    "target_df.head()"
   ]
  },
  {
   "cell_type": "code",
   "execution_count": 11,
   "id": "2aa65282",
   "metadata": {},
   "outputs": [
    {
     "data": {
      "text/html": [
       "<div>\n",
       "<style scoped>\n",
       "    .dataframe tbody tr th:only-of-type {\n",
       "        vertical-align: middle;\n",
       "    }\n",
       "\n",
       "    .dataframe tbody tr th {\n",
       "        vertical-align: top;\n",
       "    }\n",
       "\n",
       "    .dataframe thead th {\n",
       "        text-align: right;\n",
       "    }\n",
       "</style>\n",
       "<table border=\"1\" class=\"dataframe\">\n",
       "  <thead>\n",
       "    <tr style=\"text-align: right;\">\n",
       "      <th></th>\n",
       "      <th>vehicleCode</th>\n",
       "      <th>lat</th>\n",
       "      <th>lng</th>\n",
       "      <th>timestamp</th>\n",
       "      <th>distance</th>\n",
       "      <th>coord</th>\n",
       "      <th>location</th>\n",
       "      <th>is_outlier</th>\n",
       "    </tr>\n",
       "  </thead>\n",
       "  <tbody>\n",
       "    <tr>\n",
       "      <th>0</th>\n",
       "      <td>W102</td>\n",
       "      <td>35.534938</td>\n",
       "      <td>139.651564</td>\n",
       "      <td>2022-05-12T03:49:19+09:00</td>\n",
       "      <td>40.923383</td>\n",
       "      <td>(35.534938, 139.651564)</td>\n",
       "      <td>0</td>\n",
       "      <td>0</td>\n",
       "    </tr>\n",
       "    <tr>\n",
       "      <th>1</th>\n",
       "      <td>W102</td>\n",
       "      <td>35.534921</td>\n",
       "      <td>139.651580</td>\n",
       "      <td>2022-05-12T03:49:20+09:00</td>\n",
       "      <td>2.379729</td>\n",
       "      <td>(35.534921, 139.65158)</td>\n",
       "      <td>0</td>\n",
       "      <td>0</td>\n",
       "    </tr>\n",
       "    <tr>\n",
       "      <th>2</th>\n",
       "      <td>W102</td>\n",
       "      <td>35.534921</td>\n",
       "      <td>139.651580</td>\n",
       "      <td>2022-05-12T03:49:24+09:00</td>\n",
       "      <td>0.000000</td>\n",
       "      <td>(35.534921, 139.65158)</td>\n",
       "      <td>0</td>\n",
       "      <td>0</td>\n",
       "    </tr>\n",
       "    <tr>\n",
       "      <th>3</th>\n",
       "      <td>W102</td>\n",
       "      <td>35.534921</td>\n",
       "      <td>139.651580</td>\n",
       "      <td>2022-05-12T03:49:29+09:00</td>\n",
       "      <td>0.000000</td>\n",
       "      <td>(35.534921, 139.65158)</td>\n",
       "      <td>0</td>\n",
       "      <td>0</td>\n",
       "    </tr>\n",
       "    <tr>\n",
       "      <th>4</th>\n",
       "      <td>W102</td>\n",
       "      <td>35.534976</td>\n",
       "      <td>139.651498</td>\n",
       "      <td>2022-05-12T03:49:31+09:00</td>\n",
       "      <td>9.619799</td>\n",
       "      <td>(35.534976, 139.651498)</td>\n",
       "      <td>0</td>\n",
       "      <td>0</td>\n",
       "    </tr>\n",
       "    <tr>\n",
       "      <th>...</th>\n",
       "      <td>...</td>\n",
       "      <td>...</td>\n",
       "      <td>...</td>\n",
       "      <td>...</td>\n",
       "      <td>...</td>\n",
       "      <td>...</td>\n",
       "      <td>...</td>\n",
       "      <td>...</td>\n",
       "    </tr>\n",
       "    <tr>\n",
       "      <th>26723650</th>\n",
       "      <td>座間エンジン（3時区）-2</td>\n",
       "      <td>35.501584</td>\n",
       "      <td>139.439746</td>\n",
       "      <td>2022-11-04T16:55:42+09:00</td>\n",
       "      <td>4.121708</td>\n",
       "      <td>(35.501584, 139.439746)</td>\n",
       "      <td>0</td>\n",
       "      <td>0</td>\n",
       "    </tr>\n",
       "    <tr>\n",
       "      <th>26723651</th>\n",
       "      <td>座間エンジン（3時区）-2</td>\n",
       "      <td>35.501576</td>\n",
       "      <td>139.439728</td>\n",
       "      <td>2022-11-04T16:55:48+09:00</td>\n",
       "      <td>1.858719</td>\n",
       "      <td>(35.501576, 139.439728)</td>\n",
       "      <td>0</td>\n",
       "      <td>0</td>\n",
       "    </tr>\n",
       "    <tr>\n",
       "      <th>26723652</th>\n",
       "      <td>座間エンジン（3時区）-2</td>\n",
       "      <td>35.501510</td>\n",
       "      <td>139.439645</td>\n",
       "      <td>2022-11-04T16:55:53+09:00</td>\n",
       "      <td>10.503742</td>\n",
       "      <td>(35.50151, 139.439645)</td>\n",
       "      <td>0</td>\n",
       "      <td>0</td>\n",
       "    </tr>\n",
       "    <tr>\n",
       "      <th>26723653</th>\n",
       "      <td>座間エンジン（3時区）-2</td>\n",
       "      <td>35.501472</td>\n",
       "      <td>139.439588</td>\n",
       "      <td>2022-11-04T16:55:58+09:00</td>\n",
       "      <td>6.672303</td>\n",
       "      <td>(35.501472, 139.439588)</td>\n",
       "      <td>0</td>\n",
       "      <td>0</td>\n",
       "    </tr>\n",
       "    <tr>\n",
       "      <th>26723654</th>\n",
       "      <td>座間エンジン（3時区）-2</td>\n",
       "      <td>35.501484</td>\n",
       "      <td>139.439587</td>\n",
       "      <td>2022-11-04T16:56:03+09:00</td>\n",
       "      <td>1.334485</td>\n",
       "      <td>(35.501484, 139.439587)</td>\n",
       "      <td>0</td>\n",
       "      <td>0</td>\n",
       "    </tr>\n",
       "  </tbody>\n",
       "</table>\n",
       "<p>26723655 rows × 8 columns</p>\n",
       "</div>"
      ],
      "text/plain": [
       "            vehicleCode        lat         lng                  timestamp  \\\n",
       "0                  W102  35.534938  139.651564  2022-05-12T03:49:19+09:00   \n",
       "1                  W102  35.534921  139.651580  2022-05-12T03:49:20+09:00   \n",
       "2                  W102  35.534921  139.651580  2022-05-12T03:49:24+09:00   \n",
       "3                  W102  35.534921  139.651580  2022-05-12T03:49:29+09:00   \n",
       "4                  W102  35.534976  139.651498  2022-05-12T03:49:31+09:00   \n",
       "...                 ...        ...         ...                        ...   \n",
       "26723650  座間エンジン（3時区）-2  35.501584  139.439746  2022-11-04T16:55:42+09:00   \n",
       "26723651  座間エンジン（3時区）-2  35.501576  139.439728  2022-11-04T16:55:48+09:00   \n",
       "26723652  座間エンジン（3時区）-2  35.501510  139.439645  2022-11-04T16:55:53+09:00   \n",
       "26723653  座間エンジン（3時区）-2  35.501472  139.439588  2022-11-04T16:55:58+09:00   \n",
       "26723654  座間エンジン（3時区）-2  35.501484  139.439587  2022-11-04T16:56:03+09:00   \n",
       "\n",
       "           distance                    coord  location  is_outlier  \n",
       "0         40.923383  (35.534938, 139.651564)         0           0  \n",
       "1          2.379729   (35.534921, 139.65158)         0           0  \n",
       "2          0.000000   (35.534921, 139.65158)         0           0  \n",
       "3          0.000000   (35.534921, 139.65158)         0           0  \n",
       "4          9.619799  (35.534976, 139.651498)         0           0  \n",
       "...             ...                      ...       ...         ...  \n",
       "26723650   4.121708  (35.501584, 139.439746)         0           0  \n",
       "26723651   1.858719  (35.501576, 139.439728)         0           0  \n",
       "26723652  10.503742   (35.50151, 139.439645)         0           0  \n",
       "26723653   6.672303  (35.501472, 139.439588)         0           0  \n",
       "26723654   1.334485  (35.501484, 139.439587)         0           0  \n",
       "\n",
       "[26723655 rows x 8 columns]"
      ]
     },
     "execution_count": 11,
     "metadata": {},
     "output_type": "execute_result"
    }
   ],
   "source": [
    "target_df.reset_index(inplace=True, drop=True)\n",
    "target_df"
   ]
  },
  {
   "cell_type": "markdown",
   "id": "73a21819",
   "metadata": {},
   "source": [
    "## Convert data type"
   ]
  },
  {
   "cell_type": "code",
   "execution_count": 12,
   "id": "82ead87a",
   "metadata": {},
   "outputs": [],
   "source": [
    "import datetime\n",
    "target_df['timestamp']=target_df['timestamp'].apply(lambda x: datetime.datetime.strptime(x[:-6], '%Y-%m-%dt%H:%M:%S'))"
   ]
  },
  {
   "cell_type": "code",
   "execution_count": null,
   "id": "2f460f8d",
   "metadata": {},
   "outputs": [],
   "source": [
    "# Calculate time difference between every timestamp\n",
    "\n",
    "serials = target_df['vehicleCode'].unique()\n",
    "for serial in serials:\n",
    "    target_df.loc[target_df.vehicleCode==serial, 'del_time'] = \\\n",
    "    np.append(0, (target_df.loc[target_df.vehicleCode==serial, 'timestamp'][1:].reset_index(drop=True)-target_df.loc[target_df.vehicleCode==serial, 'timestamp'][:-1].reset_index(drop=True)).apply(lambda x: x.seconds).values)"
   ]
  },
  {
   "cell_type": "markdown",
   "id": "7ff96d23",
   "metadata": {},
   "source": [
    "## Split trips"
   ]
  },
  {
   "cell_type": "code",
   "execution_count": 13,
   "id": "d6556d50",
   "metadata": {},
   "outputs": [],
   "source": [
    "# If the time between each timestamp is more than 7 hours, \n",
    "# we assumed that the truck arrived to its destination and starts the new trip\n",
    "\n",
    "vehicleCodes=target_df['vehicleCode'].unique()\n",
    "idx = list(target_df[target_df['del_time']>7*60*60].index)\n",
    "\n",
    "for i in vehicleCodes:\n",
    "    idx.append(target_df[target_df['vehicleCode']==i].index[0])\n",
    "    \n",
    "idx = sorted(list(set(idx)))\n",
    "\n",
    "target_df.loc[0, 'interval7'] = 0\n",
    "target_df.loc[idx, 'interval7'] = np.arange(1, len(idx)+1)\n",
    "target_df['interval7'].fillna(method='ffill', inplace=True)"
   ]
  },
  {
   "cell_type": "markdown",
   "id": "dddee961",
   "metadata": {},
   "source": [
    "## Trip information\n",
    "- Trip information such as velocity, distance, time from the past data will be meaningful to predict the arrival time\n",
    "- Based on the `weekday` and `velocity` of each timestamp, we extracted some descriptive statistics as below\n",
    "    1. **velocity information (mean, standard deviation) for every five second**\n",
    "    2. **velocity information (mean, standard deviation) for every weekday**\n",
    "    3. **trip information (distance, time) for every vehicleCode**\n",
    "- Files are saved on 'constant' folder"
   ]
  },
  {
   "cell_type": "code",
   "execution_count": 16,
   "id": "e3e68972",
   "metadata": {
    "scrolled": true
   },
   "outputs": [
    {
     "data": {
      "text/html": [
       "<div>\n",
       "<style scoped>\n",
       "    .dataframe tbody tr th:only-of-type {\n",
       "        vertical-align: middle;\n",
       "    }\n",
       "\n",
       "    .dataframe tbody tr th {\n",
       "        vertical-align: top;\n",
       "    }\n",
       "\n",
       "    .dataframe thead th {\n",
       "        text-align: right;\n",
       "    }\n",
       "</style>\n",
       "<table border=\"1\" class=\"dataframe\">\n",
       "  <thead>\n",
       "    <tr style=\"text-align: right;\">\n",
       "      <th></th>\n",
       "      <th>vehicleCode</th>\n",
       "      <th>lat</th>\n",
       "      <th>lng</th>\n",
       "      <th>timestamp</th>\n",
       "      <th>distance</th>\n",
       "      <th>coord</th>\n",
       "      <th>location</th>\n",
       "      <th>is_outlier</th>\n",
       "      <th>del_time</th>\n",
       "      <th>interval7</th>\n",
       "      <th>weekday</th>\n",
       "      <th>velocity</th>\n",
       "    </tr>\n",
       "  </thead>\n",
       "  <tbody>\n",
       "    <tr>\n",
       "      <th>0</th>\n",
       "      <td>W102</td>\n",
       "      <td>35.534938</td>\n",
       "      <td>139.651564</td>\n",
       "      <td>2022-05-12 03:49:19</td>\n",
       "      <td>40.923383</td>\n",
       "      <td>(35.534938, 139.651564)</td>\n",
       "      <td>0</td>\n",
       "      <td>0</td>\n",
       "      <td>0.0</td>\n",
       "      <td>1.0</td>\n",
       "      <td>3</td>\n",
       "      <td>inf</td>\n",
       "    </tr>\n",
       "    <tr>\n",
       "      <th>1</th>\n",
       "      <td>W102</td>\n",
       "      <td>35.534921</td>\n",
       "      <td>139.651580</td>\n",
       "      <td>2022-05-12 03:49:20</td>\n",
       "      <td>2.379729</td>\n",
       "      <td>(35.534921, 139.65158)</td>\n",
       "      <td>0</td>\n",
       "      <td>0</td>\n",
       "      <td>1.0</td>\n",
       "      <td>1.0</td>\n",
       "      <td>3</td>\n",
       "      <td>2.379729</td>\n",
       "    </tr>\n",
       "    <tr>\n",
       "      <th>2</th>\n",
       "      <td>W102</td>\n",
       "      <td>35.534921</td>\n",
       "      <td>139.651580</td>\n",
       "      <td>2022-05-12 03:49:24</td>\n",
       "      <td>0.000000</td>\n",
       "      <td>(35.534921, 139.65158)</td>\n",
       "      <td>0</td>\n",
       "      <td>0</td>\n",
       "      <td>4.0</td>\n",
       "      <td>1.0</td>\n",
       "      <td>3</td>\n",
       "      <td>0.000000</td>\n",
       "    </tr>\n",
       "    <tr>\n",
       "      <th>3</th>\n",
       "      <td>W102</td>\n",
       "      <td>35.534921</td>\n",
       "      <td>139.651580</td>\n",
       "      <td>2022-05-12 03:49:29</td>\n",
       "      <td>0.000000</td>\n",
       "      <td>(35.534921, 139.65158)</td>\n",
       "      <td>0</td>\n",
       "      <td>0</td>\n",
       "      <td>5.0</td>\n",
       "      <td>1.0</td>\n",
       "      <td>3</td>\n",
       "      <td>0.000000</td>\n",
       "    </tr>\n",
       "    <tr>\n",
       "      <th>4</th>\n",
       "      <td>W102</td>\n",
       "      <td>35.534976</td>\n",
       "      <td>139.651498</td>\n",
       "      <td>2022-05-12 03:49:31</td>\n",
       "      <td>9.619799</td>\n",
       "      <td>(35.534976, 139.651498)</td>\n",
       "      <td>0</td>\n",
       "      <td>0</td>\n",
       "      <td>2.0</td>\n",
       "      <td>1.0</td>\n",
       "      <td>3</td>\n",
       "      <td>4.809900</td>\n",
       "    </tr>\n",
       "    <tr>\n",
       "      <th>...</th>\n",
       "      <td>...</td>\n",
       "      <td>...</td>\n",
       "      <td>...</td>\n",
       "      <td>...</td>\n",
       "      <td>...</td>\n",
       "      <td>...</td>\n",
       "      <td>...</td>\n",
       "      <td>...</td>\n",
       "      <td>...</td>\n",
       "      <td>...</td>\n",
       "      <td>...</td>\n",
       "      <td>...</td>\n",
       "    </tr>\n",
       "    <tr>\n",
       "      <th>26723650</th>\n",
       "      <td>座間エンジン（3時区）-2</td>\n",
       "      <td>35.501584</td>\n",
       "      <td>139.439746</td>\n",
       "      <td>2022-11-04 16:55:42</td>\n",
       "      <td>4.121708</td>\n",
       "      <td>(35.501584, 139.439746)</td>\n",
       "      <td>0</td>\n",
       "      <td>0</td>\n",
       "      <td>5.0</td>\n",
       "      <td>6818.0</td>\n",
       "      <td>4</td>\n",
       "      <td>0.824342</td>\n",
       "    </tr>\n",
       "    <tr>\n",
       "      <th>26723651</th>\n",
       "      <td>座間エンジン（3時区）-2</td>\n",
       "      <td>35.501576</td>\n",
       "      <td>139.439728</td>\n",
       "      <td>2022-11-04 16:55:48</td>\n",
       "      <td>1.858719</td>\n",
       "      <td>(35.501576, 139.439728)</td>\n",
       "      <td>0</td>\n",
       "      <td>0</td>\n",
       "      <td>6.0</td>\n",
       "      <td>6818.0</td>\n",
       "      <td>4</td>\n",
       "      <td>0.309787</td>\n",
       "    </tr>\n",
       "    <tr>\n",
       "      <th>26723652</th>\n",
       "      <td>座間エンジン（3時区）-2</td>\n",
       "      <td>35.501510</td>\n",
       "      <td>139.439645</td>\n",
       "      <td>2022-11-04 16:55:53</td>\n",
       "      <td>10.503742</td>\n",
       "      <td>(35.50151, 139.439645)</td>\n",
       "      <td>0</td>\n",
       "      <td>0</td>\n",
       "      <td>5.0</td>\n",
       "      <td>6818.0</td>\n",
       "      <td>4</td>\n",
       "      <td>2.100748</td>\n",
       "    </tr>\n",
       "    <tr>\n",
       "      <th>26723653</th>\n",
       "      <td>座間エンジン（3時区）-2</td>\n",
       "      <td>35.501472</td>\n",
       "      <td>139.439588</td>\n",
       "      <td>2022-11-04 16:55:58</td>\n",
       "      <td>6.672303</td>\n",
       "      <td>(35.501472, 139.439588)</td>\n",
       "      <td>0</td>\n",
       "      <td>0</td>\n",
       "      <td>5.0</td>\n",
       "      <td>6818.0</td>\n",
       "      <td>4</td>\n",
       "      <td>1.334461</td>\n",
       "    </tr>\n",
       "    <tr>\n",
       "      <th>26723654</th>\n",
       "      <td>座間エンジン（3時区）-2</td>\n",
       "      <td>35.501484</td>\n",
       "      <td>139.439587</td>\n",
       "      <td>2022-11-04 16:56:03</td>\n",
       "      <td>1.334485</td>\n",
       "      <td>(35.501484, 139.439587)</td>\n",
       "      <td>0</td>\n",
       "      <td>0</td>\n",
       "      <td>5.0</td>\n",
       "      <td>6818.0</td>\n",
       "      <td>4</td>\n",
       "      <td>0.266897</td>\n",
       "    </tr>\n",
       "  </tbody>\n",
       "</table>\n",
       "<p>26723655 rows × 12 columns</p>\n",
       "</div>"
      ],
      "text/plain": [
       "            vehicleCode        lat         lng           timestamp   distance  \\\n",
       "0                  W102  35.534938  139.651564 2022-05-12 03:49:19  40.923383   \n",
       "1                  W102  35.534921  139.651580 2022-05-12 03:49:20   2.379729   \n",
       "2                  W102  35.534921  139.651580 2022-05-12 03:49:24   0.000000   \n",
       "3                  W102  35.534921  139.651580 2022-05-12 03:49:29   0.000000   \n",
       "4                  W102  35.534976  139.651498 2022-05-12 03:49:31   9.619799   \n",
       "...                 ...        ...         ...                 ...        ...   \n",
       "26723650  座間エンジン（3時区）-2  35.501584  139.439746 2022-11-04 16:55:42   4.121708   \n",
       "26723651  座間エンジン（3時区）-2  35.501576  139.439728 2022-11-04 16:55:48   1.858719   \n",
       "26723652  座間エンジン（3時区）-2  35.501510  139.439645 2022-11-04 16:55:53  10.503742   \n",
       "26723653  座間エンジン（3時区）-2  35.501472  139.439588 2022-11-04 16:55:58   6.672303   \n",
       "26723654  座間エンジン（3時区）-2  35.501484  139.439587 2022-11-04 16:56:03   1.334485   \n",
       "\n",
       "                            coord  location  is_outlier  del_time  interval7  \\\n",
       "0         (35.534938, 139.651564)         0           0       0.0        1.0   \n",
       "1          (35.534921, 139.65158)         0           0       1.0        1.0   \n",
       "2          (35.534921, 139.65158)         0           0       4.0        1.0   \n",
       "3          (35.534921, 139.65158)         0           0       5.0        1.0   \n",
       "4         (35.534976, 139.651498)         0           0       2.0        1.0   \n",
       "...                           ...       ...         ...       ...        ...   \n",
       "26723650  (35.501584, 139.439746)         0           0       5.0     6818.0   \n",
       "26723651  (35.501576, 139.439728)         0           0       6.0     6818.0   \n",
       "26723652   (35.50151, 139.439645)         0           0       5.0     6818.0   \n",
       "26723653  (35.501472, 139.439588)         0           0       5.0     6818.0   \n",
       "26723654  (35.501484, 139.439587)         0           0       5.0     6818.0   \n",
       "\n",
       "          weekday  velocity  \n",
       "0               3       inf  \n",
       "1               3  2.379729  \n",
       "2               3  0.000000  \n",
       "3               3  0.000000  \n",
       "4               3  4.809900  \n",
       "...           ...       ...  \n",
       "26723650        4  0.824342  \n",
       "26723651        4  0.309787  \n",
       "26723652        4  2.100748  \n",
       "26723653        4  1.334461  \n",
       "26723654        4  0.266897  \n",
       "\n",
       "[26723655 rows x 12 columns]"
      ]
     },
     "execution_count": 16,
     "metadata": {},
     "output_type": "execute_result"
    }
   ],
   "source": [
    "target_df['weekday'] = target_df['timestamp'].dt.weekday\n",
    "target_df['velocity'] = target_df['distance'] / target_df['del_time']\n",
    "target_df"
   ]
  },
  {
   "cell_type": "code",
   "execution_count": null,
   "id": "90039b30",
   "metadata": {},
   "outputs": [],
   "source": [
    "# Round timestamp to five seconds\n",
    "target_df['five_sec'] = target_df['timestamp'].dt.round('5s').dt.time\n",
    "target_df['five_sec'] = target_df['five_sec'].apply(lambda x: x.strftime(\"%H:%M:%S\"))\n",
    "target_df.loc[target_df['velocity'] == np.inf, 'velocity'] = 0\n",
    "\n",
    "# velocity mean for every five second\n",
    "a = pd.DataFrame(target_df.groupby('five_sec')['velocity'].mean())\n",
    "a.rename(columns = {'velocity':'velocity_mean_5sec'},inplace=True)\n",
    "\n",
    "# velocity standard deviation for every five seccond\n",
    "b = pd.DataFrame(target_df.groupby('five_sec')['velocity'].std())\n",
    "b.rename(columns = {'velocity':'velocity_std_5sec'},inplace=True)\n",
    "\n",
    "# velocity information for every five second\n",
    "df1 = pd.concat([a,b],axis=1).reset_index()\n",
    "\n",
    "# velocity mean for every weekday\n",
    "c = pd.DataFrame(target_df.groupby('weekday')['velocity'].mean())\n",
    "c.rename(columns = {'velocity':'velocity_mean_weekday'},inplace=True)\n",
    "\n",
    "# velocity standard deviation for every weekday\n",
    "d = pd.DataFrame(target_df.groupby('weekday')['velocity'].std())\n",
    "d.rename(columns = {'velocity':'velocity_std_weekday'},inplace=True)\n",
    "\n",
    "# velocity information for every weekday\n",
    "df2 = pd.concat([c,d],axis=1).reset_index()\n",
    "\n",
    "# mean of total distance for every vehicleCode\n",
    "e = pd.DataFrame(target_df.groupby([\"vehicleCode\",'interval7']).distance.sum().reset_index().groupby('vehicleCode').distance.mean())\n",
    "e.rename(columns = {'distance':'total_distance_mean_vehicle'},inplace=True)\n",
    "\n",
    "# mean of total trip time for every vehicleCode\n",
    "f = pd.DataFrame(target_df.groupby([\"vehicleCode\",\"interval7\"]).del_time.sum().reset_index().groupby('vehicleCode').del_time.mean())\n",
    "f.rename(columns = {'del_time':'total_time_mean_vehicle'},inplace=True)\n",
    "\n",
    "# trip information for every vehicleCode\n",
    "df3 = pd.concat([e,f],axis=1).reset_index()\n",
    "\n",
    "# Save trip information\n",
    "df1.to_csv(\"./constant/constant_velocity_5sec.csv\", index=False)\n",
    "df2.to_csv(\"./constant/constant_velocity_week.csv\", index=False)\n",
    "df3.to_csv(\"./constant/constant_total_mean.csv\", index=False)"
   ]
  },
  {
   "cell_type": "code",
   "execution_count": 17,
   "id": "564072ab",
   "metadata": {
    "scrolled": true
   },
   "outputs": [
    {
     "data": {
      "text/html": [
       "<div>\n",
       "<style scoped>\n",
       "    .dataframe tbody tr th:only-of-type {\n",
       "        vertical-align: middle;\n",
       "    }\n",
       "\n",
       "    .dataframe tbody tr th {\n",
       "        vertical-align: top;\n",
       "    }\n",
       "\n",
       "    .dataframe thead th {\n",
       "        text-align: right;\n",
       "    }\n",
       "</style>\n",
       "<table border=\"1\" class=\"dataframe\">\n",
       "  <thead>\n",
       "    <tr style=\"text-align: right;\">\n",
       "      <th></th>\n",
       "      <th>vehicleCode</th>\n",
       "      <th>lat</th>\n",
       "      <th>lng</th>\n",
       "      <th>timestamp</th>\n",
       "      <th>distance</th>\n",
       "      <th>coord</th>\n",
       "      <th>location</th>\n",
       "      <th>is_outlier</th>\n",
       "      <th>del_time</th>\n",
       "      <th>interval7</th>\n",
       "      <th>weekday</th>\n",
       "      <th>velocity</th>\n",
       "      <th>five_sec</th>\n",
       "      <th>velocity_mean_5sec</th>\n",
       "      <th>velocity_std_5sec</th>\n",
       "      <th>velocity_mean_weekday</th>\n",
       "      <th>velocity_std_weekday</th>\n",
       "      <th>total_distance_mean_vehicle</th>\n",
       "      <th>total_time_mean_vehicle</th>\n",
       "    </tr>\n",
       "  </thead>\n",
       "  <tbody>\n",
       "    <tr>\n",
       "      <th>0</th>\n",
       "      <td>W102</td>\n",
       "      <td>35.534938</td>\n",
       "      <td>139.651564</td>\n",
       "      <td>2022-05-12 03:49:19</td>\n",
       "      <td>40.923383</td>\n",
       "      <td>(35.534938, 139.651564)</td>\n",
       "      <td>0</td>\n",
       "      <td>0</td>\n",
       "      <td>0.0</td>\n",
       "      <td>1.0</td>\n",
       "      <td>3</td>\n",
       "      <td>0.000000</td>\n",
       "      <td>03:49:20</td>\n",
       "      <td>11.706075</td>\n",
       "      <td>8.546284</td>\n",
       "      <td>14.280946</td>\n",
       "      <td>504.669762</td>\n",
       "      <td>113718.354540</td>\n",
       "      <td>86089.450382</td>\n",
       "    </tr>\n",
       "    <tr>\n",
       "      <th>1</th>\n",
       "      <td>W102</td>\n",
       "      <td>35.534921</td>\n",
       "      <td>139.651580</td>\n",
       "      <td>2022-05-12 03:49:20</td>\n",
       "      <td>2.379729</td>\n",
       "      <td>(35.534921, 139.65158)</td>\n",
       "      <td>0</td>\n",
       "      <td>0</td>\n",
       "      <td>1.0</td>\n",
       "      <td>1.0</td>\n",
       "      <td>3</td>\n",
       "      <td>2.379729</td>\n",
       "      <td>03:49:20</td>\n",
       "      <td>11.706075</td>\n",
       "      <td>8.546284</td>\n",
       "      <td>14.280946</td>\n",
       "      <td>504.669762</td>\n",
       "      <td>113718.354540</td>\n",
       "      <td>86089.450382</td>\n",
       "    </tr>\n",
       "    <tr>\n",
       "      <th>2</th>\n",
       "      <td>W102</td>\n",
       "      <td>35.534921</td>\n",
       "      <td>139.651580</td>\n",
       "      <td>2022-05-12 03:49:24</td>\n",
       "      <td>0.000000</td>\n",
       "      <td>(35.534921, 139.65158)</td>\n",
       "      <td>0</td>\n",
       "      <td>0</td>\n",
       "      <td>4.0</td>\n",
       "      <td>1.0</td>\n",
       "      <td>3</td>\n",
       "      <td>0.000000</td>\n",
       "      <td>03:49:25</td>\n",
       "      <td>11.671444</td>\n",
       "      <td>9.312073</td>\n",
       "      <td>14.280946</td>\n",
       "      <td>504.669762</td>\n",
       "      <td>113718.354540</td>\n",
       "      <td>86089.450382</td>\n",
       "    </tr>\n",
       "    <tr>\n",
       "      <th>3</th>\n",
       "      <td>W102</td>\n",
       "      <td>35.534921</td>\n",
       "      <td>139.651580</td>\n",
       "      <td>2022-05-12 03:49:29</td>\n",
       "      <td>0.000000</td>\n",
       "      <td>(35.534921, 139.65158)</td>\n",
       "      <td>0</td>\n",
       "      <td>0</td>\n",
       "      <td>5.0</td>\n",
       "      <td>1.0</td>\n",
       "      <td>3</td>\n",
       "      <td>0.000000</td>\n",
       "      <td>03:49:30</td>\n",
       "      <td>13.289898</td>\n",
       "      <td>44.053619</td>\n",
       "      <td>14.280946</td>\n",
       "      <td>504.669762</td>\n",
       "      <td>113718.354540</td>\n",
       "      <td>86089.450382</td>\n",
       "    </tr>\n",
       "    <tr>\n",
       "      <th>4</th>\n",
       "      <td>W102</td>\n",
       "      <td>35.534976</td>\n",
       "      <td>139.651498</td>\n",
       "      <td>2022-05-12 03:49:31</td>\n",
       "      <td>9.619799</td>\n",
       "      <td>(35.534976, 139.651498)</td>\n",
       "      <td>0</td>\n",
       "      <td>0</td>\n",
       "      <td>2.0</td>\n",
       "      <td>1.0</td>\n",
       "      <td>3</td>\n",
       "      <td>4.809900</td>\n",
       "      <td>03:49:30</td>\n",
       "      <td>13.289898</td>\n",
       "      <td>44.053619</td>\n",
       "      <td>14.280946</td>\n",
       "      <td>504.669762</td>\n",
       "      <td>113718.354540</td>\n",
       "      <td>86089.450382</td>\n",
       "    </tr>\n",
       "    <tr>\n",
       "      <th>...</th>\n",
       "      <td>...</td>\n",
       "      <td>...</td>\n",
       "      <td>...</td>\n",
       "      <td>...</td>\n",
       "      <td>...</td>\n",
       "      <td>...</td>\n",
       "      <td>...</td>\n",
       "      <td>...</td>\n",
       "      <td>...</td>\n",
       "      <td>...</td>\n",
       "      <td>...</td>\n",
       "      <td>...</td>\n",
       "      <td>...</td>\n",
       "      <td>...</td>\n",
       "      <td>...</td>\n",
       "      <td>...</td>\n",
       "      <td>...</td>\n",
       "      <td>...</td>\n",
       "      <td>...</td>\n",
       "    </tr>\n",
       "    <tr>\n",
       "      <th>26723650</th>\n",
       "      <td>座間エンジン（3時区）-2</td>\n",
       "      <td>35.501584</td>\n",
       "      <td>139.439746</td>\n",
       "      <td>2022-11-04 16:55:42</td>\n",
       "      <td>4.121708</td>\n",
       "      <td>(35.501584, 139.439746)</td>\n",
       "      <td>0</td>\n",
       "      <td>0</td>\n",
       "      <td>5.0</td>\n",
       "      <td>6818.0</td>\n",
       "      <td>4</td>\n",
       "      <td>0.824342</td>\n",
       "      <td>16:55:40</td>\n",
       "      <td>15.487454</td>\n",
       "      <td>59.592917</td>\n",
       "      <td>12.733705</td>\n",
       "      <td>50.916114</td>\n",
       "      <td>122904.112538</td>\n",
       "      <td>86085.165138</td>\n",
       "    </tr>\n",
       "    <tr>\n",
       "      <th>26723651</th>\n",
       "      <td>座間エンジン（3時区）-2</td>\n",
       "      <td>35.501576</td>\n",
       "      <td>139.439728</td>\n",
       "      <td>2022-11-04 16:55:48</td>\n",
       "      <td>1.858719</td>\n",
       "      <td>(35.501576, 139.439728)</td>\n",
       "      <td>0</td>\n",
       "      <td>0</td>\n",
       "      <td>6.0</td>\n",
       "      <td>6818.0</td>\n",
       "      <td>4</td>\n",
       "      <td>0.309787</td>\n",
       "      <td>16:55:50</td>\n",
       "      <td>18.590636</td>\n",
       "      <td>123.697314</td>\n",
       "      <td>12.733705</td>\n",
       "      <td>50.916114</td>\n",
       "      <td>122904.112538</td>\n",
       "      <td>86085.165138</td>\n",
       "    </tr>\n",
       "    <tr>\n",
       "      <th>26723652</th>\n",
       "      <td>座間エンジン（3時区）-2</td>\n",
       "      <td>35.501510</td>\n",
       "      <td>139.439645</td>\n",
       "      <td>2022-11-04 16:55:53</td>\n",
       "      <td>10.503742</td>\n",
       "      <td>(35.50151, 139.439645)</td>\n",
       "      <td>0</td>\n",
       "      <td>0</td>\n",
       "      <td>5.0</td>\n",
       "      <td>6818.0</td>\n",
       "      <td>4</td>\n",
       "      <td>2.100748</td>\n",
       "      <td>16:55:55</td>\n",
       "      <td>16.172334</td>\n",
       "      <td>48.119371</td>\n",
       "      <td>12.733705</td>\n",
       "      <td>50.916114</td>\n",
       "      <td>122904.112538</td>\n",
       "      <td>86085.165138</td>\n",
       "    </tr>\n",
       "    <tr>\n",
       "      <th>26723653</th>\n",
       "      <td>座間エンジン（3時区）-2</td>\n",
       "      <td>35.501472</td>\n",
       "      <td>139.439588</td>\n",
       "      <td>2022-11-04 16:55:58</td>\n",
       "      <td>6.672303</td>\n",
       "      <td>(35.501472, 139.439588)</td>\n",
       "      <td>0</td>\n",
       "      <td>0</td>\n",
       "      <td>5.0</td>\n",
       "      <td>6818.0</td>\n",
       "      <td>4</td>\n",
       "      <td>1.334461</td>\n",
       "      <td>16:56:00</td>\n",
       "      <td>16.108201</td>\n",
       "      <td>59.934680</td>\n",
       "      <td>12.733705</td>\n",
       "      <td>50.916114</td>\n",
       "      <td>122904.112538</td>\n",
       "      <td>86085.165138</td>\n",
       "    </tr>\n",
       "    <tr>\n",
       "      <th>26723654</th>\n",
       "      <td>座間エンジン（3時区）-2</td>\n",
       "      <td>35.501484</td>\n",
       "      <td>139.439587</td>\n",
       "      <td>2022-11-04 16:56:03</td>\n",
       "      <td>1.334485</td>\n",
       "      <td>(35.501484, 139.439587)</td>\n",
       "      <td>0</td>\n",
       "      <td>0</td>\n",
       "      <td>5.0</td>\n",
       "      <td>6818.0</td>\n",
       "      <td>4</td>\n",
       "      <td>0.266897</td>\n",
       "      <td>16:56:05</td>\n",
       "      <td>16.908971</td>\n",
       "      <td>73.318479</td>\n",
       "      <td>12.733705</td>\n",
       "      <td>50.916114</td>\n",
       "      <td>122904.112538</td>\n",
       "      <td>86085.165138</td>\n",
       "    </tr>\n",
       "  </tbody>\n",
       "</table>\n",
       "<p>26723655 rows × 19 columns</p>\n",
       "</div>"
      ],
      "text/plain": [
       "            vehicleCode        lat         lng           timestamp   distance  \\\n",
       "0                  W102  35.534938  139.651564 2022-05-12 03:49:19  40.923383   \n",
       "1                  W102  35.534921  139.651580 2022-05-12 03:49:20   2.379729   \n",
       "2                  W102  35.534921  139.651580 2022-05-12 03:49:24   0.000000   \n",
       "3                  W102  35.534921  139.651580 2022-05-12 03:49:29   0.000000   \n",
       "4                  W102  35.534976  139.651498 2022-05-12 03:49:31   9.619799   \n",
       "...                 ...        ...         ...                 ...        ...   \n",
       "26723650  座間エンジン（3時区）-2  35.501584  139.439746 2022-11-04 16:55:42   4.121708   \n",
       "26723651  座間エンジン（3時区）-2  35.501576  139.439728 2022-11-04 16:55:48   1.858719   \n",
       "26723652  座間エンジン（3時区）-2  35.501510  139.439645 2022-11-04 16:55:53  10.503742   \n",
       "26723653  座間エンジン（3時区）-2  35.501472  139.439588 2022-11-04 16:55:58   6.672303   \n",
       "26723654  座間エンジン（3時区）-2  35.501484  139.439587 2022-11-04 16:56:03   1.334485   \n",
       "\n",
       "                            coord  location  is_outlier  del_time  interval7  \\\n",
       "0         (35.534938, 139.651564)         0           0       0.0        1.0   \n",
       "1          (35.534921, 139.65158)         0           0       1.0        1.0   \n",
       "2          (35.534921, 139.65158)         0           0       4.0        1.0   \n",
       "3          (35.534921, 139.65158)         0           0       5.0        1.0   \n",
       "4         (35.534976, 139.651498)         0           0       2.0        1.0   \n",
       "...                           ...       ...         ...       ...        ...   \n",
       "26723650  (35.501584, 139.439746)         0           0       5.0     6818.0   \n",
       "26723651  (35.501576, 139.439728)         0           0       6.0     6818.0   \n",
       "26723652   (35.50151, 139.439645)         0           0       5.0     6818.0   \n",
       "26723653  (35.501472, 139.439588)         0           0       5.0     6818.0   \n",
       "26723654  (35.501484, 139.439587)         0           0       5.0     6818.0   \n",
       "\n",
       "          weekday  velocity  five_sec  velocity_mean_5sec  velocity_std_5sec  \\\n",
       "0               3  0.000000  03:49:20           11.706075           8.546284   \n",
       "1               3  2.379729  03:49:20           11.706075           8.546284   \n",
       "2               3  0.000000  03:49:25           11.671444           9.312073   \n",
       "3               3  0.000000  03:49:30           13.289898          44.053619   \n",
       "4               3  4.809900  03:49:30           13.289898          44.053619   \n",
       "...           ...       ...       ...                 ...                ...   \n",
       "26723650        4  0.824342  16:55:40           15.487454          59.592917   \n",
       "26723651        4  0.309787  16:55:50           18.590636         123.697314   \n",
       "26723652        4  2.100748  16:55:55           16.172334          48.119371   \n",
       "26723653        4  1.334461  16:56:00           16.108201          59.934680   \n",
       "26723654        4  0.266897  16:56:05           16.908971          73.318479   \n",
       "\n",
       "          velocity_mean_weekday  velocity_std_weekday  \\\n",
       "0                     14.280946            504.669762   \n",
       "1                     14.280946            504.669762   \n",
       "2                     14.280946            504.669762   \n",
       "3                     14.280946            504.669762   \n",
       "4                     14.280946            504.669762   \n",
       "...                         ...                   ...   \n",
       "26723650              12.733705             50.916114   \n",
       "26723651              12.733705             50.916114   \n",
       "26723652              12.733705             50.916114   \n",
       "26723653              12.733705             50.916114   \n",
       "26723654              12.733705             50.916114   \n",
       "\n",
       "          total_distance_mean_vehicle  total_time_mean_vehicle  \n",
       "0                       113718.354540             86089.450382  \n",
       "1                       113718.354540             86089.450382  \n",
       "2                       113718.354540             86089.450382  \n",
       "3                       113718.354540             86089.450382  \n",
       "4                       113718.354540             86089.450382  \n",
       "...                               ...                      ...  \n",
       "26723650                122904.112538             86085.165138  \n",
       "26723651                122904.112538             86085.165138  \n",
       "26723652                122904.112538             86085.165138  \n",
       "26723653                122904.112538             86085.165138  \n",
       "26723654                122904.112538             86085.165138  \n",
       "\n",
       "[26723655 rows x 19 columns]"
      ]
     },
     "execution_count": 17,
     "metadata": {},
     "output_type": "execute_result"
    }
   ],
   "source": [
    "# Add features for each timestamp by merging actual data and trip information\n",
    "\n",
    "target_df = pd.merge(target_df, df1, on='five_sec', how='left')\n",
    "target_df = pd.merge(target_df, df2, on='weekday', how='left')\n",
    "target_df = pd.merge(target_df, df3, on='vehicleCode', how='left')\n",
    "target_df"
   ]
  },
  {
   "cell_type": "markdown",
   "id": "97eef505",
   "metadata": {},
   "source": [
    "# Training Model"
   ]
  },
  {
   "cell_type": "markdown",
   "id": "c54a38d1",
   "metadata": {},
   "source": [
    "## Split Training data\n",
    "- To build a model that predicts the arrival time to each factory, we have to split the total data into four parts that pass through the factory"
   ]
  },
  {
   "cell_type": "code",
   "execution_count": 14,
   "id": "ee9f15c2",
   "metadata": {},
   "outputs": [
    {
     "name": "stdout",
     "output_type": "stream",
     "text": [
      "Higashi_count = 1459\n",
      "K1_count = 4851\n",
      "Atsugi_count = 1874\n",
      "Nakatsu_count = 1612\n"
     ]
    }
   ],
   "source": [
    "# Based on the trips separated from the above code, select trips that pass through each factory\n",
    "\n",
    "Higashi_pass= list(target_df[target_df['location']==1]['interval7'].unique())\n",
    "K1_pass= list(target_df[target_df['location']==2]['interval7'].unique())\n",
    "Atsugi_pass= list(target_df[target_df['location']==3]['interval7'].unique())\n",
    "Nakatsu_pass= list(target_df[target_df['location']==4]['interval7'].unique())\n",
    "\n",
    "# Number of trips per factory \n",
    "\n",
    "print(\"Higashi_count = {}\\nK1_count = {}\\nAtsugi_count = {}\\nNakatsu_count = {}\".format(len(Higashi_pass),len(K1_pass),len(Atsugi_pass),len(Nakatsu_pass)))"
   ]
  },
  {
   "cell_type": "code",
   "execution_count": 15,
   "id": "aade2e0f",
   "metadata": {},
   "outputs": [],
   "source": [
    "# Select index for each factory to split the total data\n",
    "\n",
    "Higashi_data_index = []\n",
    "K1_data_index = []\n",
    "Atsugi_data_index = []\n",
    "Nakatsu_data_index = []\n",
    "\n",
    "for drive in Higashi_pass:\n",
    "    temp =target_df[target_df['interval7']==drive]\n",
    "    start = temp.index[0]\n",
    "    temp = temp[temp['location']==1]\n",
    "    if(len(temp)<10):\n",
    "        continue \n",
    "    if(temp.iloc[9].location==1):\n",
    "        end = temp.iloc[9].name\n",
    "        Higashi_data_index.extend([x for x in range(start,end)])\n",
    "        \n",
    "for drive in K1_pass:\n",
    "    temp =target_df[target_df['interval7']==drive]\n",
    "    start = temp.index[0]\n",
    "    temp = temp[temp['location']==2]\n",
    "    if(len(temp)<10):\n",
    "        continue \n",
    "    if(temp.iloc[9].location==1):\n",
    "        end = temp.iloc[9].name\n",
    "        K1_data_index.extend([x for x in range(start,end)])\n",
    "        \n",
    "for drive in Atsugi_pass:\n",
    "    temp =target_df[target_df['interval7']==drive]\n",
    "    start = temp.index[0]\n",
    "    temp = temp[temp['location']==3]\n",
    "    if(len(temp)<10):\n",
    "        continue \n",
    "    if(temp.iloc[9].location==1):\n",
    "        end = temp.iloc[9].name\n",
    "        Atsugi_data_index.extend([x for x in range(start,end)])\n",
    "\n",
    "for drive in Nakatsu_pass:\n",
    "    temp =target_df[target_df['interval7']==drive]\n",
    "    start = temp.index[0]\n",
    "    temp = temp[temp['location']==4]\n",
    "    if(len(temp)<10):\n",
    "        continue \n",
    "    if(temp.iloc[9].location==1):\n",
    "        end = temp.iloc[9].name\n",
    "        Nakatsu_data_index.extend([x for x in range(start,end)])"
   ]
  },
  {
   "cell_type": "markdown",
   "id": "2379c0b9",
   "metadata": {},
   "source": [
    "## Training\n",
    "- For the models that consider `vehicleCode` as a single variable, MAE were about 2-3 hours and we couldn't make better improvement.\n",
    "- We estimated that this was because of the **large variation between each vehicleCode**, <br>\n",
    "so we trained the model for each factory and vehicleCode and built total **160 models.**"
   ]
  },
  {
   "cell_type": "code",
   "execution_count": 25,
   "id": "313b4776",
   "metadata": {
    "scrolled": true
   },
   "outputs": [
    {
     "name": "stderr",
     "output_type": "stream",
     "text": [
      "1it [00:01,  1.64s/it]"
     ]
    },
    {
     "name": "stdout",
     "output_type": "stream",
     "text": [
      "models/Higashi_W103_model.model : rmse : 4.713199977224574 mae : 2.6553905508165854  r2 : 0.9999527350075801\n"
     ]
    },
    {
     "name": "stderr",
     "output_type": "stream",
     "text": [
      "\r",
      "2it [00:24, 13.83s/it]"
     ]
    },
    {
     "name": "stdout",
     "output_type": "stream",
     "text": [
      "models/Higashi_W106_model.model : rmse : 8.700080089632147 mae : 4.5593386203766855  r2 : 0.9975178000645533\n"
     ]
    },
    {
     "name": "stderr",
     "output_type": "stream",
     "text": [
      "\r",
      "3it [01:30, 38.01s/it]"
     ]
    },
    {
     "name": "stdout",
     "output_type": "stream",
     "text": [
      "models/Higashi_W108_model.model : rmse : 35.99136989312425 mae : 23.903036180706945  r2 : 0.9768254404618093\n"
     ]
    },
    {
     "name": "stderr",
     "output_type": "stream",
     "text": [
      "\r",
      "4it [02:17, 41.32s/it]"
     ]
    },
    {
     "name": "stdout",
     "output_type": "stream",
     "text": [
      "models/Higashi_W109_model.model : rmse : 21.949514505896655 mae : 16.574514094498493  r2 : 0.9350457043700253\n"
     ]
    },
    {
     "name": "stderr",
     "output_type": "stream",
     "text": [
      "\r",
      "5it [02:36, 33.35s/it]"
     ]
    },
    {
     "name": "stdout",
     "output_type": "stream",
     "text": [
      "models/Higashi_W110_model.model : rmse : 6.742755731892658 mae : 3.419898106796694  r2 : 0.9960556523025383\n"
     ]
    },
    {
     "name": "stderr",
     "output_type": "stream",
     "text": [
      "\r",
      "6it [03:21, 37.18s/it]"
     ]
    },
    {
     "name": "stdout",
     "output_type": "stream",
     "text": [
      "models/Higashi_W112_model.model : rmse : 3.9863754301385246 mae : 1.6225385874677627  r2 : 0.895271402603103\n"
     ]
    },
    {
     "name": "stderr",
     "output_type": "stream",
     "text": [
      "\r",
      "7it [03:57, 36.95s/it]"
     ]
    },
    {
     "name": "stdout",
     "output_type": "stream",
     "text": [
      "models/Higashi_W113_model.model : rmse : 37.884469443431065 mae : 25.26821692112275  r2 : 0.9542944999930454\n"
     ]
    },
    {
     "name": "stderr",
     "output_type": "stream",
     "text": [
      "\r",
      "8it [04:35, 37.44s/it]"
     ]
    },
    {
     "name": "stdout",
     "output_type": "stream",
     "text": [
      "models/Higashi_W114_model.model : rmse : 13.959634441007058 mae : 2.2914453083783184  r2 : 0.9960977322305139\n"
     ]
    },
    {
     "name": "stderr",
     "output_type": "stream",
     "text": [
      "\r",
      "9it [05:08, 35.80s/it]"
     ]
    },
    {
     "name": "stdout",
     "output_type": "stream",
     "text": [
      "models/Higashi_W115_model.model : rmse : 1.5360634607778831 mae : 0.9655677058941293  r2 : 0.9765246598399323\n"
     ]
    },
    {
     "name": "stderr",
     "output_type": "stream",
     "text": [
      "\r",
      "10it [05:28, 30.89s/it]"
     ]
    },
    {
     "name": "stdout",
     "output_type": "stream",
     "text": [
      "models/Higashi_W117_model.model : rmse : 8.195169625835309 mae : 3.2801586149161572  r2 : 0.9809207895675804\n"
     ]
    },
    {
     "name": "stderr",
     "output_type": "stream",
     "text": [
      "\r",
      "11it [05:41, 25.68s/it]"
     ]
    },
    {
     "name": "stdout",
     "output_type": "stream",
     "text": [
      "models/Higashi_W118_model.model : rmse : 9.75525154176826 mae : 3.2648458962664293  r2 : 0.9821242062195251\n"
     ]
    },
    {
     "name": "stderr",
     "output_type": "stream",
     "text": [
      "\r",
      "12it [06:01, 23.78s/it]"
     ]
    },
    {
     "name": "stdout",
     "output_type": "stream",
     "text": [
      "models/Higashi_W119_model.model : rmse : 0.8384153461853391 mae : 0.5928088248920582  r2 : 0.9837208884541044\n"
     ]
    },
    {
     "name": "stderr",
     "output_type": "stream",
     "text": [
      "\r",
      "13it [06:31, 25.79s/it]"
     ]
    },
    {
     "name": "stdout",
     "output_type": "stream",
     "text": [
      "models/Higashi_W120-1_model.model : rmse : 45.57301523333303 mae : 6.318625911803904  r2 : 0.9363343533404703\n"
     ]
    },
    {
     "name": "stderr",
     "output_type": "stream",
     "text": [
      "\r",
      "14it [07:02, 27.23s/it]"
     ]
    },
    {
     "name": "stdout",
     "output_type": "stream",
     "text": [
      "models/Higashi_W120-2_model.model : rmse : 10.569861374057542 mae : 6.337743288705893  r2 : 0.9877505982689712\n"
     ]
    },
    {
     "name": "stderr",
     "output_type": "stream",
     "text": [
      "\r",
      "15it [07:03, 19.48s/it]"
     ]
    },
    {
     "name": "stdout",
     "output_type": "stream",
     "text": [
      "models/Higashi_W40-1_model.model : rmse : 3.0076621798163683 mae : 1.5461147332789416  r2 : 0.9998470169517013\n"
     ]
    },
    {
     "name": "stderr",
     "output_type": "stream",
     "text": [
      "\r",
      "16it [07:05, 14.06s/it]"
     ]
    },
    {
     "name": "stdout",
     "output_type": "stream",
     "text": [
      "models/Higashi_W40-2_model.model : rmse : 2.821183619834784 mae : 1.6466001605680536  r2 : 0.9998743317327102\n"
     ]
    },
    {
     "name": "stderr",
     "output_type": "stream",
     "text": [
      "\r",
      "17it [07:07, 10.44s/it]"
     ]
    },
    {
     "name": "stdout",
     "output_type": "stream",
     "text": [
      "models/Higashi_W41-1_model.model : rmse : 2.302685735250749 mae : 1.4914050448341751  r2 : 0.9999556398150712\n"
     ]
    },
    {
     "name": "stderr",
     "output_type": "stream",
     "text": [
      "\r",
      "18it [07:57, 22.33s/it]"
     ]
    },
    {
     "name": "stdout",
     "output_type": "stream",
     "text": [
      "models/Higashi_W44-1_model.model : rmse : 58.3725997987825 mae : 34.40793234839409  r2 : 0.9313223207711318\n"
     ]
    },
    {
     "name": "stderr",
     "output_type": "stream",
     "text": [
      "\r",
      "19it [08:54, 32.83s/it]"
     ]
    },
    {
     "name": "stdout",
     "output_type": "stream",
     "text": [
      "models/Higashi_W44-2_model.model : rmse : 107.73466531506736 mae : 52.41368658408081  r2 : 0.9805882318257468\n"
     ]
    },
    {
     "name": "stderr",
     "output_type": "stream",
     "text": [
      "\r",
      "20it [09:18, 30.19s/it]"
     ]
    },
    {
     "name": "stdout",
     "output_type": "stream",
     "text": [
      "models/Higashi_W44-スポット_model.model : rmse : 14.765453808252923 mae : 7.98427753334819  r2 : 0.994305008853186\n"
     ]
    },
    {
     "name": "stderr",
     "output_type": "stream",
     "text": [
      "\r",
      "21it [10:18, 39.06s/it]"
     ]
    },
    {
     "name": "stdout",
     "output_type": "stream",
     "text": [
      "models/Higashi_W45-1_model.model : rmse : 49.360628311481754 mae : 39.12859686238345  r2 : 0.95486274921585\n"
     ]
    },
    {
     "name": "stderr",
     "output_type": "stream",
     "text": [
      "\r",
      "22it [11:11, 43.27s/it]"
     ]
    },
    {
     "name": "stdout",
     "output_type": "stream",
     "text": [
      "models/Higashi_W45-2_model.model : rmse : 43.306631951755534 mae : 27.660970281696375  r2 : 0.9947049241371543\n"
     ]
    },
    {
     "name": "stderr",
     "output_type": "stream",
     "text": [
      "\r",
      "23it [12:07, 47.11s/it]"
     ]
    },
    {
     "name": "stdout",
     "output_type": "stream",
     "text": [
      "models/Higashi_W46_model.model : rmse : 493.73789293132387 mae : 247.78252853062114  r2 : 0.7976272752081092\n"
     ]
    },
    {
     "name": "stderr",
     "output_type": "stream",
     "text": [
      "\r",
      "24it [12:49, 45.50s/it]"
     ]
    },
    {
     "name": "stdout",
     "output_type": "stream",
     "text": [
      "models/Higashi_W46-スポット_model.model : rmse : 64.60721307920542 mae : 40.25458713448918  r2 : 0.9420161946906093\n"
     ]
    },
    {
     "name": "stderr",
     "output_type": "stream",
     "text": [
      "\r",
      "25it [13:25, 42.69s/it]"
     ]
    },
    {
     "name": "stdout",
     "output_type": "stream",
     "text": [
      "models/Higashi_W47-1_model.model : rmse : 756.3587645448813 mae : 360.52153339225686  r2 : 0.7417204039608039\n"
     ]
    },
    {
     "name": "stderr",
     "output_type": "stream",
     "text": [
      "\r",
      "26it [13:47, 36.60s/it]"
     ]
    },
    {
     "name": "stdout",
     "output_type": "stream",
     "text": [
      "models/Higashi_W47-2_model.model : rmse : 10.001569582851811 mae : 5.9268990227156655  r2 : 0.9999660016300326\n"
     ]
    },
    {
     "name": "stderr",
     "output_type": "stream",
     "text": [
      "\r",
      "27it [14:41, 41.61s/it]"
     ]
    },
    {
     "name": "stdout",
     "output_type": "stream",
     "text": [
      "models/Higashi_W47-3_model.model : rmse : 58.55970898511922 mae : 37.95360133791866  r2 : 0.9185840355517292\n"
     ]
    },
    {
     "name": "stderr",
     "output_type": "stream",
     "text": [
      "\r",
      "28it [15:14, 39.15s/it]"
     ]
    },
    {
     "name": "stdout",
     "output_type": "stream",
     "text": [
      "models/Higashi_W52_model.model : rmse : 18.420689094179583 mae : 11.288141787248236  r2 : 0.9792830739058186\n"
     ]
    },
    {
     "name": "stderr",
     "output_type": "stream",
     "text": [
      "\r",
      "29it [15:44, 36.29s/it]"
     ]
    },
    {
     "name": "stdout",
     "output_type": "stream",
     "text": [
      "models/Higashi_W53_model.model : rmse : 16.582637582734012 mae : 11.314726945189053  r2 : 0.9777258408004975\n"
     ]
    },
    {
     "name": "stderr",
     "output_type": "stream",
     "text": [
      "\r",
      "30it [15:45, 25.69s/it]"
     ]
    },
    {
     "name": "stdout",
     "output_type": "stream",
     "text": [
      "models/Higashi_W54_model.model : rmse : 2.1667429021378393 mae : 0.7566216192117341  r2 : 0.9494147924590893\n"
     ]
    },
    {
     "name": "stderr",
     "output_type": "stream",
     "text": [
      "\r",
      "31it [16:08, 24.85s/it]"
     ]
    },
    {
     "name": "stdout",
     "output_type": "stream",
     "text": [
      "models/Higashi_W72_model.model : rmse : 17.45211786655069 mae : 12.07491946170533  r2 : 0.9883887882845614\n"
     ]
    },
    {
     "name": "stderr",
     "output_type": "stream",
     "text": [
      "\r",
      "32it [16:37, 26.37s/it]"
     ]
    },
    {
     "name": "stdout",
     "output_type": "stream",
     "text": [
      "models/Higashi_W75_model.model : rmse : 9.088296668009308 mae : 5.881600665113741  r2 : 0.99664410604948\n"
     ]
    },
    {
     "name": "stderr",
     "output_type": "stream",
     "text": [
      "\r",
      "33it [17:12, 28.69s/it]"
     ]
    },
    {
     "name": "stdout",
     "output_type": "stream",
     "text": [
      "models/Higashi_W77_model.model : rmse : 11.170506486501795 mae : 6.160707591586635  r2 : 0.976137100114888\n"
     ]
    },
    {
     "name": "stderr",
     "output_type": "stream",
     "text": [
      "\r",
      "34it [17:13, 20.62s/it]"
     ]
    },
    {
     "name": "stdout",
     "output_type": "stream",
     "text": [
      "models/Higashi_W80_model.model : rmse : 4.759508077043823 mae : 2.9542812415713966  r2 : 0.9989328055260871\n"
     ]
    },
    {
     "name": "stderr",
     "output_type": "stream",
     "text": [
      "\r",
      "35it [17:15, 14.80s/it]"
     ]
    },
    {
     "name": "stdout",
     "output_type": "stream",
     "text": [
      "models/Higashi_W82-2_model.model : rmse : 0.7280096666733467 mae : 0.5160682380722905  r2 : 0.9998615421983224\n"
     ]
    },
    {
     "name": "stderr",
     "output_type": "stream",
     "text": [
      "\r",
      "36it [17:35, 16.51s/it]"
     ]
    },
    {
     "name": "stdout",
     "output_type": "stream",
     "text": [
      "models/Higashi_W88_model.model : rmse : 0.9922881649888317 mae : 0.4417674172412816  r2 : 0.9947926357708115\n"
     ]
    },
    {
     "name": "stderr",
     "output_type": "stream",
     "text": [
      "\r",
      "37it [17:37, 12.11s/it]"
     ]
    },
    {
     "name": "stdout",
     "output_type": "stream",
     "text": [
      "models/Higashi_W90_model.model : rmse : 4.4545862553243145 mae : 2.911189047322583  r2 : 0.9990671587640398\n"
     ]
    },
    {
     "name": "stderr",
     "output_type": "stream",
     "text": [
      "\r",
      "38it [18:10, 18.34s/it]"
     ]
    },
    {
     "name": "stdout",
     "output_type": "stream",
     "text": [
      "models/Higashi_W94_model.model : rmse : 1.81182359396647 mae : 1.268725219000804  r2 : 0.9797920802758395\n"
     ]
    },
    {
     "name": "stderr",
     "output_type": "stream",
     "text": [
      "39it [18:11, 27.98s/it]"
     ]
    },
    {
     "name": "stdout",
     "output_type": "stream",
     "text": [
      "models/Higashi_座間エンジン（3時区）-2_model.model : rmse : 1.1243242135479998 mae : 0.7344619601820365  r2 : 0.9996186358395909\n"
     ]
    },
    {
     "name": "stderr",
     "output_type": "stream",
     "text": [
      "\n",
      "1it [00:01,  1.28s/it]"
     ]
    },
    {
     "name": "stdout",
     "output_type": "stream",
     "text": [
      "models/K1_W103_model.model : rmse : 4.279744650678113 mae : 2.4925706773960905  r2 : 0.9999610288183487\n"
     ]
    },
    {
     "name": "stderr",
     "output_type": "stream",
     "text": [
      "\r",
      "2it [00:02,  1.07s/it]"
     ]
    },
    {
     "name": "stdout",
     "output_type": "stream",
     "text": [
      "models/K1_W106_model.model : rmse : 0.5563452439334352 mae : 0.38491749849356466  r2 : 0.9970250659576586\n"
     ]
    },
    {
     "name": "stderr",
     "output_type": "stream",
     "text": [
      "\r",
      "3it [01:09, 31.29s/it]"
     ]
    },
    {
     "name": "stdout",
     "output_type": "stream",
     "text": [
      "models/K1_W108_model.model : rmse : 33.104940260723424 mae : 22.447128867730317  r2 : 0.9804043771789245\n"
     ]
    },
    {
     "name": "stderr",
     "output_type": "stream",
     "text": [
      "\r",
      "4it [01:56, 37.61s/it]"
     ]
    },
    {
     "name": "stdout",
     "output_type": "stream",
     "text": [
      "models/K1_W109_model.model : rmse : 21.895774583195347 mae : 16.45150479693182  r2 : 0.935713932948474\n"
     ]
    },
    {
     "name": "stderr",
     "output_type": "stream",
     "text": [
      "\r",
      "5it [01:57, 24.44s/it]"
     ]
    },
    {
     "name": "stdout",
     "output_type": "stream",
     "text": [
      "models/K1_W110_model.model : rmse : 2.1919009676018084 mae : 1.4820518375101142  r2 : 0.9974282095487389\n"
     ]
    },
    {
     "name": "stderr",
     "output_type": "stream",
     "text": [
      "\r",
      "6it [02:35, 28.96s/it]"
     ]
    },
    {
     "name": "stdout",
     "output_type": "stream",
     "text": [
      "models/K1_W112_model.model : rmse : 3.9318270965308124 mae : 1.6535149819763897  r2 : 0.8975284725011313\n"
     ]
    },
    {
     "name": "stderr",
     "output_type": "stream",
     "text": [
      "\r",
      "7it [03:09, 30.71s/it]"
     ]
    },
    {
     "name": "stdout",
     "output_type": "stream",
     "text": [
      "models/K1_W113_model.model : rmse : 37.72135099192922 mae : 25.211559640208915  r2 : 0.9546872392967768\n"
     ]
    },
    {
     "name": "stderr",
     "output_type": "stream",
     "text": [
      "\r",
      "8it [03:45, 32.24s/it]"
     ]
    },
    {
     "name": "stdout",
     "output_type": "stream",
     "text": [
      "models/K1_W114_model.model : rmse : 14.12913208105868 mae : 2.2786009194852452  r2 : 0.9960023943923884\n"
     ]
    },
    {
     "name": "stderr",
     "output_type": "stream",
     "text": [
      "\r",
      "9it [04:25, 34.85s/it]"
     ]
    },
    {
     "name": "stdout",
     "output_type": "stream",
     "text": [
      "models/K1_W115_model.model : rmse : 1.5415624662624423 mae : 0.9584346754234007  r2 : 0.9763562786548392\n"
     ]
    },
    {
     "name": "stderr",
     "output_type": "stream",
     "text": [
      "\r",
      "10it [04:43, 29.63s/it]"
     ]
    },
    {
     "name": "stdout",
     "output_type": "stream",
     "text": [
      "models/K1_W117_model.model : rmse : 8.131937022441042 mae : 3.2358572397607173  r2 : 0.9812140779066849\n"
     ]
    },
    {
     "name": "stderr",
     "output_type": "stream",
     "text": [
      "\r",
      "11it [05:00, 25.63s/it]"
     ]
    },
    {
     "name": "stdout",
     "output_type": "stream",
     "text": [
      "models/K1_W118_model.model : rmse : 9.771732025552797 mae : 3.0196574289096807  r2 : 0.9821586516281383\n"
     ]
    },
    {
     "name": "stderr",
     "output_type": "stream",
     "text": [
      "\r",
      "12it [05:21, 24.29s/it]"
     ]
    },
    {
     "name": "stdout",
     "output_type": "stream",
     "text": [
      "models/K1_W119_model.model : rmse : 0.8467395081163503 mae : 0.5912068802834309  r2 : 0.9833960311792003\n"
     ]
    },
    {
     "name": "stderr",
     "output_type": "stream",
     "text": [
      "\r",
      "13it [06:06, 30.54s/it]"
     ]
    },
    {
     "name": "stdout",
     "output_type": "stream",
     "text": [
      "models/K1_W120-1_model.model : rmse : 44.539464319759965 mae : 6.438514713282642  r2 : 0.9447101446969866\n"
     ]
    },
    {
     "name": "stderr",
     "output_type": "stream",
     "text": [
      "\r",
      "14it [06:24, 26.69s/it]"
     ]
    },
    {
     "name": "stdout",
     "output_type": "stream",
     "text": [
      "models/K1_W120-2_model.model : rmse : 3.9460075632946445 mae : 2.411582428093704  r2 : 0.9916091108898499\n"
     ]
    },
    {
     "name": "stderr",
     "output_type": "stream",
     "text": [
      "\r",
      "15it [06:25, 19.11s/it]"
     ]
    },
    {
     "name": "stdout",
     "output_type": "stream",
     "text": [
      "models/K1_W40-1_model.model : rmse : 3.079595895199209 mae : 1.5879544123010434  r2 : 0.9998396117071124\n"
     ]
    },
    {
     "name": "stderr",
     "output_type": "stream",
     "text": [
      "\r",
      "16it [06:27, 13.83s/it]"
     ]
    },
    {
     "name": "stdout",
     "output_type": "stream",
     "text": [
      "models/K1_W40-2_model.model : rmse : 2.8060770854655868 mae : 1.6414234914934043  r2 : 0.9998756739560889\n"
     ]
    },
    {
     "name": "stderr",
     "output_type": "stream",
     "text": [
      "\r",
      "17it [07:05, 20.94s/it]"
     ]
    },
    {
     "name": "stdout",
     "output_type": "stream",
     "text": [
      "models/K1_W44-1_model.model : rmse : 71.71008258407215 mae : 47.118610488562226  r2 : 0.9081587272875874\n"
     ]
    },
    {
     "name": "stderr",
     "output_type": "stream",
     "text": [
      "\r",
      "18it [07:54, 29.58s/it]"
     ]
    },
    {
     "name": "stdout",
     "output_type": "stream",
     "text": [
      "models/K1_W44-2_model.model : rmse : 68.62019872365128 mae : 24.380517509926975  r2 : 0.9959693994011496\n"
     ]
    },
    {
     "name": "stderr",
     "output_type": "stream",
     "text": [
      "\r",
      "19it [08:25, 29.97s/it]"
     ]
    },
    {
     "name": "stdout",
     "output_type": "stream",
     "text": [
      "models/K1_W44-スポット_model.model : rmse : 1.7783601596350658 mae : 1.2054993924366975  r2 : 0.9999096646808018\n"
     ]
    },
    {
     "name": "stderr",
     "output_type": "stream",
     "text": [
      "\r",
      "20it [09:16, 36.34s/it]"
     ]
    },
    {
     "name": "stdout",
     "output_type": "stream",
     "text": [
      "models/K1_W45-1_model.model : rmse : 32.11292365036551 mae : 21.19473668115979  r2 : 0.9823210258616275\n"
     ]
    },
    {
     "name": "stderr",
     "output_type": "stream",
     "text": [
      "\r",
      "21it [09:55, 37.16s/it]"
     ]
    },
    {
     "name": "stdout",
     "output_type": "stream",
     "text": [
      "models/K1_W45-2_model.model : rmse : 16.25504946910321 mae : 9.763435442597249  r2 : 0.994859678806715\n"
     ]
    },
    {
     "name": "stderr",
     "output_type": "stream",
     "text": [
      "\r",
      "22it [10:59, 45.13s/it]"
     ]
    },
    {
     "name": "stdout",
     "output_type": "stream",
     "text": [
      "models/K1_W46_model.model : rmse : 395.48514748373805 mae : 185.44128458243583  r2 : 0.8824280715046637\n"
     ]
    },
    {
     "name": "stderr",
     "output_type": "stream",
     "text": [
      "\r",
      "23it [11:47, 46.05s/it]"
     ]
    },
    {
     "name": "stdout",
     "output_type": "stream",
     "text": [
      "models/K1_W46-スポット_model.model : rmse : 61.76142696659847 mae : 35.544043801265204  r2 : 0.9434459287255824\n"
     ]
    },
    {
     "name": "stderr",
     "output_type": "stream",
     "text": [
      "\r",
      "24it [12:43, 48.91s/it]"
     ]
    },
    {
     "name": "stdout",
     "output_type": "stream",
     "text": [
      "models/K1_W47-3_model.model : rmse : 54.04155338031833 mae : 29.291521982648952  r2 : 0.9328669579976151\n"
     ]
    },
    {
     "name": "stderr",
     "output_type": "stream",
     "text": [
      "\r",
      "25it [13:22, 46.10s/it]"
     ]
    },
    {
     "name": "stdout",
     "output_type": "stream",
     "text": [
      "models/K1_W52_model.model : rmse : 18.46847083129844 mae : 11.299781959225106  r2 : 0.9791754585436989\n"
     ]
    },
    {
     "name": "stderr",
     "output_type": "stream",
     "text": [
      "\r",
      "26it [13:59, 43.40s/it]"
     ]
    },
    {
     "name": "stdout",
     "output_type": "stream",
     "text": [
      "models/K1_W53_model.model : rmse : 16.566821707108243 mae : 11.312189227618191  r2 : 0.9777683089943272\n"
     ]
    },
    {
     "name": "stderr",
     "output_type": "stream",
     "text": [
      "\r",
      "27it [14:30, 39.58s/it]"
     ]
    },
    {
     "name": "stdout",
     "output_type": "stream",
     "text": [
      "models/K1_W72_model.model : rmse : 17.419149110281516 mae : 12.067218067814492  r2 : 0.9884326162751635\n"
     ]
    },
    {
     "name": "stderr",
     "output_type": "stream",
     "text": [
      "\r",
      "28it [14:58, 36.20s/it]"
     ]
    },
    {
     "name": "stdout",
     "output_type": "stream",
     "text": [
      "models/K1_W75_model.model : rmse : 9.717054806385459 mae : 6.109283108837108  r2 : 0.9960732843467529\n"
     ]
    },
    {
     "name": "stderr",
     "output_type": "stream",
     "text": [
      "\r",
      "29it [15:36, 36.52s/it]"
     ]
    },
    {
     "name": "stdout",
     "output_type": "stream",
     "text": [
      "models/K1_W77_model.model : rmse : 11.443580089008615 mae : 6.3488909657057535  r2 : 0.9746409502609028\n"
     ]
    },
    {
     "name": "stderr",
     "output_type": "stream",
     "text": [
      "30it [15:38, 31.28s/it]"
     ]
    },
    {
     "name": "stdout",
     "output_type": "stream",
     "text": [
      "models/K1_座間エンジン（3時区）-2_model.model : rmse : 0.946275611766502 mae : 0.6329186139861924  r2 : 0.9997298580417718\n"
     ]
    },
    {
     "name": "stderr",
     "output_type": "stream",
     "text": [
      "\n",
      "1it [00:02,  2.40s/it]"
     ]
    },
    {
     "name": "stdout",
     "output_type": "stream",
     "text": [
      "models/Atsugi_W103_model.model : rmse : 4.682688173793142 mae : 2.5845002093050993  r2 : 0.999953344984742\n"
     ]
    },
    {
     "name": "stderr",
     "output_type": "stream",
     "text": [
      "\r",
      "2it [00:04,  2.43s/it]"
     ]
    },
    {
     "name": "stdout",
     "output_type": "stream",
     "text": [
      "models/Atsugi_W106_model.model : rmse : 8.98779275631807 mae : 5.379587599850229  r2 : 0.9973590404462085\n"
     ]
    },
    {
     "name": "stderr",
     "output_type": "stream",
     "text": [
      "\r",
      "3it [01:26, 38.42s/it]"
     ]
    },
    {
     "name": "stdout",
     "output_type": "stream",
     "text": [
      "models/Atsugi_W108_model.model : rmse : 35.482398987054076 mae : 23.628628931687576  r2 : 0.9773221001599626\n"
     ]
    },
    {
     "name": "stderr",
     "output_type": "stream",
     "text": [
      "\r",
      "4it [02:23, 45.76s/it]"
     ]
    },
    {
     "name": "stdout",
     "output_type": "stream",
     "text": [
      "models/Atsugi_W109_model.model : rmse : 20.799357748648607 mae : 15.432039134975723  r2 : 0.9416790795530982\n"
     ]
    },
    {
     "name": "stderr",
     "output_type": "stream",
     "text": [
      "\r",
      "5it [02:48, 38.37s/it]"
     ]
    },
    {
     "name": "stdout",
     "output_type": "stream",
     "text": [
      "models/Atsugi_W110_model.model : rmse : 1.4599632958678765 mae : 0.9381709077441872  r2 : 0.9997881470390378\n"
     ]
    },
    {
     "name": "stderr",
     "output_type": "stream",
     "text": [
      "\r",
      "6it [03:14, 34.28s/it]"
     ]
    },
    {
     "name": "stdout",
     "output_type": "stream",
     "text": [
      "models/Atsugi_W44-スポット_model.model : rmse : 1.5552307898180793 mae : 0.9868053848460969  r2 : 0.9999344839541022\n"
     ]
    },
    {
     "name": "stderr",
     "output_type": "stream",
     "text": [
      "\r",
      "7it [03:17, 23.96s/it]"
     ]
    },
    {
     "name": "stdout",
     "output_type": "stream",
     "text": [
      "models/Atsugi_W45-2_model.model : rmse : 1.312060365867659 mae : 0.9941371624162003  r2 : 0.9999612639810077\n"
     ]
    },
    {
     "name": "stderr",
     "output_type": "stream",
     "text": [
      "\r",
      "8it [03:55, 28.58s/it]"
     ]
    },
    {
     "name": "stdout",
     "output_type": "stream",
     "text": [
      "models/Atsugi_W46_model.model : rmse : 399.9162152151725 mae : 168.0330126983973  r2 : 0.8828072823815065\n"
     ]
    },
    {
     "name": "stderr",
     "output_type": "stream",
     "text": [
      "\r",
      "9it [04:36, 32.39s/it]"
     ]
    },
    {
     "name": "stdout",
     "output_type": "stream",
     "text": [
      "models/Atsugi_W47-1_model.model : rmse : 703.171763359263 mae : 321.9129464896475  r2 : 0.7934250526505842\n"
     ]
    },
    {
     "name": "stderr",
     "output_type": "stream",
     "text": [
      "\r",
      "10it [05:06, 31.74s/it]"
     ]
    },
    {
     "name": "stdout",
     "output_type": "stream",
     "text": [
      "models/Atsugi_W47-2_model.model : rmse : 8.751096516365193 mae : 5.295930617415375  r2 : 0.9999743944838134\n"
     ]
    },
    {
     "name": "stderr",
     "output_type": "stream",
     "text": [
      "\r",
      "11it [05:11, 23.30s/it]"
     ]
    },
    {
     "name": "stdout",
     "output_type": "stream",
     "text": [
      "models/Atsugi_W47-3_model.model : rmse : 1.8610452605485666 mae : 1.2249517746083574  r2 : 0.9999074747636538\n"
     ]
    },
    {
     "name": "stderr",
     "output_type": "stream",
     "text": [
      "\r",
      "12it [05:14, 17.16s/it]"
     ]
    },
    {
     "name": "stdout",
     "output_type": "stream",
     "text": [
      "models/Atsugi_W80_model.model : rmse : 4.786233265382771 mae : 2.9154996045148294  r2 : 0.9989207870371473\n"
     ]
    },
    {
     "name": "stderr",
     "output_type": "stream",
     "text": [
      "13it [05:17, 24.41s/it]"
     ]
    },
    {
     "name": "stdout",
     "output_type": "stream",
     "text": [
      "models/Atsugi_W90_model.model : rmse : 4.356707922978939 mae : 2.8268415934800917  r2 : 0.9991077020787512\n"
     ]
    },
    {
     "name": "stderr",
     "output_type": "stream",
     "text": [
      "\n",
      "1it [00:02,  2.32s/it]"
     ]
    },
    {
     "name": "stdout",
     "output_type": "stream",
     "text": [
      "models/Nakatsu_W103_model.model : rmse : 4.734479642819725 mae : 2.3956285252247205  r2 : 0.9999523072499007\n"
     ]
    },
    {
     "name": "stderr",
     "output_type": "stream",
     "text": [
      "\r",
      "2it [00:04,  2.39s/it]"
     ]
    },
    {
     "name": "stdout",
     "output_type": "stream",
     "text": [
      "models/Nakatsu_W106_model.model : rmse : 9.100220043938542 mae : 5.450721552534013  r2 : 0.9972925562778813\n"
     ]
    },
    {
     "name": "stderr",
     "output_type": "stream",
     "text": [
      "\r",
      "3it [01:34, 42.08s/it]"
     ]
    },
    {
     "name": "stdout",
     "output_type": "stream",
     "text": [
      "models/Nakatsu_W108_model.model : rmse : 35.91292802188915 mae : 23.844967529682442  r2 : 0.9769263465871145\n"
     ]
    },
    {
     "name": "stderr",
     "output_type": "stream",
     "text": [
      "\r",
      "4it [02:35, 49.68s/it]"
     ]
    },
    {
     "name": "stdout",
     "output_type": "stream",
     "text": [
      "models/Nakatsu_W109_model.model : rmse : 21.909894212121184 mae : 16.546437940755936  r2 : 0.9352799861442012\n"
     ]
    },
    {
     "name": "stderr",
     "output_type": "stream",
     "text": [
      "\r",
      "5it [03:01, 41.00s/it]"
     ]
    },
    {
     "name": "stdout",
     "output_type": "stream",
     "text": [
      "models/Nakatsu_W110_model.model : rmse : 6.388502892680513 mae : 3.1340790804929384  r2 : 0.9964189401491006\n"
     ]
    },
    {
     "name": "stderr",
     "output_type": "stream",
     "text": [
      "\r",
      "6it [03:02, 27.73s/it]"
     ]
    },
    {
     "name": "stdout",
     "output_type": "stream",
     "text": [
      "models/Nakatsu_W120-2_model.model : rmse : 0.765231925672773 mae : 0.49937839446157406  r2 : 0.9945391591674617\n"
     ]
    },
    {
     "name": "stderr",
     "output_type": "stream",
     "text": [
      "\r",
      "7it [03:05, 19.60s/it]"
     ]
    },
    {
     "name": "stdout",
     "output_type": "stream",
     "text": [
      "models/Nakatsu_W46_model.model : rmse : 1.8316915646278353 mae : 1.0986606960222904  r2 : 0.9998854184537499\n"
     ]
    },
    {
     "name": "stderr",
     "output_type": "stream",
     "text": [
      "\r",
      "8it [03:33, 22.01s/it]"
     ]
    },
    {
     "name": "stdout",
     "output_type": "stream",
     "text": [
      "models/Nakatsu_W47-1_model.model : rmse : 6.544250784554216 mae : 3.7794655700401125  r2 : 0.9999835544982842\n"
     ]
    },
    {
     "name": "stderr",
     "output_type": "stream",
     "text": [
      "\r",
      "9it [04:00, 23.61s/it]"
     ]
    },
    {
     "name": "stdout",
     "output_type": "stream",
     "text": [
      "models/Nakatsu_W47-2_model.model : rmse : 8.34342937478785 mae : 3.7020728438943444  r2 : 0.9999747581702811\n"
     ]
    },
    {
     "name": "stderr",
     "output_type": "stream",
     "text": [
      "\r",
      "10it [04:03, 17.28s/it]"
     ]
    },
    {
     "name": "stdout",
     "output_type": "stream",
     "text": [
      "models/Nakatsu_W80_model.model : rmse : 4.663830406247174 mae : 2.8648098013056784  r2 : 0.998975280665863\n"
     ]
    },
    {
     "name": "stderr",
     "output_type": "stream",
     "text": [
      "11it [04:06, 22.40s/it]"
     ]
    },
    {
     "name": "stdout",
     "output_type": "stream",
     "text": [
      "models/Nakatsu_W90_model.model : rmse : 4.539483137344271 mae : 2.97837399453098  r2 : 0.9990312631849025\n"
     ]
    },
    {
     "name": "stderr",
     "output_type": "stream",
     "text": [
      "\n"
     ]
    }
   ],
   "source": [
    "seed = 1422\n",
    "\n",
    "def feature_engineering(df,i):\n",
    "    total_distance = df.groupby('interval7').distance.sum()\n",
    "    # total distance per trip\n",
    "    df['total_distance/drive'] = df['interval7'].apply(lambda x:total_distance[x]) \n",
    "    # accumulated distance for each timestamp\n",
    "    df['cum_sum_distance'] = df.groupby(\"interval7\").distance.cumsum() \n",
    "    \n",
    "    ata_dic = df.groupby('interval7')['timestamp'].max()\n",
    "    # actual arrival time per trip\n",
    "    df['ata'] = df['interval7'].apply(lambda x : ata_dic[x]) \n",
    "    # left time for each timestamp\n",
    "    df['left_time'] = df['ata']- df['timestamp'] \n",
    "    # set the left time interval in minutes\n",
    "    df['left_time'] = df['left_time'].apply(lambda x : x.total_seconds() // 60) \n",
    "    # haversine distance between location of each timestamp and destination\n",
    "    df['distance_btw_target'] = df['coord'].apply(lambda x : haversine(x,target_place[i])) \n",
    "\n",
    "    return df\n",
    "\n",
    "using_cols = ['lat','lng','distance','cum_sum_distance','velocity',\n",
    "              'distance_btw_target','weekday','velocity_mean_5sec',\n",
    "              'velocity_std_5sec','velocity_mean_weekday','velocity_std_weekday',\n",
    "              'total_distance_mean_vehicle','total_time_mean_vehicle','left_time'] # features used to train the model\n",
    "legend ={1: 'Higashi', 2: 'K1', 3 : 'Atsugi',4:'Nakatsu'}\n",
    "\n",
    "for i,target in enumerate([Higashi_data_index,K1_data_index,Atsugi_data_index,Nakatsu_data_index]):\n",
    "    data = target_df.loc[target]\n",
    "    data = feature_engineering(data,i+1)\n",
    "    \n",
    "    for j,r in tqdm(enumerate(data['vehicleCode'].unique())):\n",
    "        file_name = 'models/{}_{}_model.model'.format(legend[i+1],r)\n",
    "        \n",
    "        dff = data[data['vehicleCode']==r]\n",
    "        dff = dff[using_cols]\n",
    "        y = dff['left_time']\n",
    "        X = dff.drop(['left_time'],axis=1)\n",
    "        x_train, x_test , y_train, y_test = train_test_split(X,y, test_size= 0.2, random_state= 1422) \n",
    "\n",
    "        model= CatBoostRegressor(\n",
    "                          eval_metric = 'MAE',\n",
    "                          cat_features = ['weekday'],\n",
    "                          random_state=seed,\n",
    "                         verbose = False\n",
    "                      )\n",
    "\n",
    "        model.fit(x_train , y_train,early_stopping_rounds =50)\n",
    "        \n",
    "        pred = model.predict(x_test)\n",
    "        mse = mean_squared_error(y_test , pred)\n",
    "        mae = mean_absolute_error(y_test, pred)\n",
    "        r2 = r2_score(y_test, pred)\n",
    "        \n",
    "        print(f'{file_name} : rmse : {np.sqrt(mse)} mae : {mae}  r2 : {r2}')\n",
    "        pickle.dump(model, open(file_name, 'wb'))\n",
    "        "
   ]
  },
  {
   "cell_type": "markdown",
   "id": "5ff4332c",
   "metadata": {},
   "source": [
    "# Training result"
   ]
  },
  {
   "cell_type": "markdown",
   "id": "8c6bfd03",
   "metadata": {},
   "source": [
    "## Feature importance"
   ]
  },
  {
   "cell_type": "code",
   "execution_count": 69,
   "id": "f12491c1",
   "metadata": {},
   "outputs": [],
   "source": [
    "def feature_importance(destination, vehicleCode):\n",
    "    model_path = f'./models/{destination}_{vehicleCode}_model.model'\n",
    "    model = pickle.load(open(model_path, 'rb'))\n",
    "    \n",
    "    features = np.array(['lat','lng','distance','cum_sum_distance','velocity',\n",
    "                         'distance_btw_target','weekday','velocity_mean_5sec',\n",
    "                         'velocity_std_5sec','velocity_mean_weekday','velocity_std_weekday',\n",
    "                         'total_distance_mean_vehicle','total_time_mean_vehicle'])\n",
    "    \n",
    "    importances = model.feature_importances_\n",
    "    sorted_indices = np.argsort(importances)[::-1]\n",
    "    \n",
    "    plt.title(f'{destination} {vehicleCode} feature importance')\n",
    "    plt.bar(range(len(features)), importances[sorted_indices], align='center')\n",
    "    plt.xticks(range(len(features)), features[sorted_indices], rotation=90)\n",
    "    plt.tight_layout()\n",
    "    plt.show()"
   ]
  },
  {
   "cell_type": "code",
   "execution_count": 71,
   "id": "6f74a392",
   "metadata": {},
   "outputs": [
    {
     "data": {
      "image/png": "[encoded data removed]",
      "text/plain": [
       "<Figure size 640x480 with 1 Axes>"
      ]
     },
     "metadata": {},
     "output_type": "display_data"
    }
   ],
   "source": [
    "feature_importance('Higashi', 'W110')"
   ]
  },
  {
   "cell_type": "code",
   "execution_count": 72,
   "id": "44bec4b8",
   "metadata": {},
   "outputs": [
    {
     "data": {
      "image/png": "[encoded data removed]",
      "text/plain": [
       "<Figure size 640x480 with 1 Axes>"
      ]
     },
     "metadata": {},
     "output_type": "display_data"
    }
   ],
   "source": [
    "feature_importance('K1', 'W110')"
   ]
  },
  {
   "cell_type": "code",
   "execution_count": 73,
   "id": "ab2ffd53",
   "metadata": {},
   "outputs": [
    {
     "data": {
      "image/png": "[encoded data removed]",
      "text/plain": [
       "<Figure size 640x480 with 1 Axes>"
      ]
     },
     "metadata": {},
     "output_type": "display_data"
    }
   ],
   "source": [
    "feature_importance('Atsugi', 'W110')"
   ]
  },
  {
   "cell_type": "code",
   "execution_count": 75,
   "id": "f8e69b0f",
   "metadata": {},
   "outputs": [
    {
     "data": {
      "image/png": "[encoded data removed]",
      "text/plain": [
       "<Figure size 640x480 with 1 Axes>"
      ]
     },
     "metadata": {},
     "output_type": "display_data"
    }
   ],
   "source": [
    "feature_importance('Nakatsu', 'W110')"
   ]
  },
  {
   "cell_type": "markdown",
   "id": "9270c24f",
   "metadata": {},
   "source": [
    "## MAE"
   ]
  },
  {
   "cell_type": "code",
   "execution_count": 119,
   "id": "c46cbd4d",
   "metadata": {},
   "outputs": [
    {
     "data": {
      "text/html": [
       "<div>\n",
       "<style scoped>\n",
       "    .dataframe tbody tr th:only-of-type {\n",
       "        vertical-align: middle;\n",
       "    }\n",
       "\n",
       "    .dataframe tbody tr th {\n",
       "        vertical-align: top;\n",
       "    }\n",
       "\n",
       "    .dataframe thead th {\n",
       "        text-align: right;\n",
       "    }\n",
       "</style>\n",
       "<table border=\"1\" class=\"dataframe\">\n",
       "  <thead>\n",
       "    <tr style=\"text-align: right;\">\n",
       "      <th></th>\n",
       "      <th>model</th>\n",
       "      <th>rmse</th>\n",
       "      <th>mae</th>\n",
       "      <th>r2</th>\n",
       "    </tr>\n",
       "  </thead>\n",
       "  <tbody>\n",
       "    <tr>\n",
       "      <th>0</th>\n",
       "      <td>Higashi_W103_model</td>\n",
       "      <td>4.713200</td>\n",
       "      <td>2.655391</td>\n",
       "      <td>0.999953</td>\n",
       "    </tr>\n",
       "    <tr>\n",
       "      <th>1</th>\n",
       "      <td>Higashi_W106_model</td>\n",
       "      <td>8.700080</td>\n",
       "      <td>4.559339</td>\n",
       "      <td>0.997518</td>\n",
       "    </tr>\n",
       "    <tr>\n",
       "      <th>2</th>\n",
       "      <td>Higashi_W108_model</td>\n",
       "      <td>35.991370</td>\n",
       "      <td>23.903036</td>\n",
       "      <td>0.976825</td>\n",
       "    </tr>\n",
       "    <tr>\n",
       "      <th>3</th>\n",
       "      <td>Higashi_W109_model</td>\n",
       "      <td>21.949515</td>\n",
       "      <td>16.574514</td>\n",
       "      <td>0.935046</td>\n",
       "    </tr>\n",
       "    <tr>\n",
       "      <th>4</th>\n",
       "      <td>Higashi_W110_model</td>\n",
       "      <td>6.742756</td>\n",
       "      <td>3.419898</td>\n",
       "      <td>0.996056</td>\n",
       "    </tr>\n",
       "    <tr>\n",
       "      <th>...</th>\n",
       "      <td>...</td>\n",
       "      <td>...</td>\n",
       "      <td>...</td>\n",
       "      <td>...</td>\n",
       "    </tr>\n",
       "    <tr>\n",
       "      <th>155</th>\n",
       "      <td>Nakatsu_W97-2_model</td>\n",
       "      <td>108.809204</td>\n",
       "      <td>30.941585</td>\n",
       "      <td>0.962120</td>\n",
       "    </tr>\n",
       "    <tr>\n",
       "      <th>156</th>\n",
       "      <td>Nakatsu_W98-1_model</td>\n",
       "      <td>0.460119</td>\n",
       "      <td>0.335955</td>\n",
       "      <td>0.998997</td>\n",
       "    </tr>\n",
       "    <tr>\n",
       "      <th>157</th>\n",
       "      <td>Nakatsu_W98-2_model</td>\n",
       "      <td>4.161420</td>\n",
       "      <td>2.134124</td>\n",
       "      <td>0.990994</td>\n",
       "    </tr>\n",
       "    <tr>\n",
       "      <th>158</th>\n",
       "      <td>Nakatsu_座間エンジン（1・2・4時区）-1_model</td>\n",
       "      <td>0.314931</td>\n",
       "      <td>0.243164</td>\n",
       "      <td>0.916189</td>\n",
       "    </tr>\n",
       "    <tr>\n",
       "      <th>159</th>\n",
       "      <td>Nakatsu_座間エンジン（3時区）-2_model</td>\n",
       "      <td>11.198338</td>\n",
       "      <td>2.947592</td>\n",
       "      <td>0.998501</td>\n",
       "    </tr>\n",
       "  </tbody>\n",
       "</table>\n",
       "<p>160 rows × 4 columns</p>\n",
       "</div>"
      ],
      "text/plain": [
       "                               model        rmse        mae        r2\n",
       "0                 Higashi_W103_model    4.713200   2.655391  0.999953\n",
       "1                 Higashi_W106_model    8.700080   4.559339  0.997518\n",
       "2                 Higashi_W108_model   35.991370  23.903036  0.976825\n",
       "3                 Higashi_W109_model   21.949515  16.574514  0.935046\n",
       "4                 Higashi_W110_model    6.742756   3.419898  0.996056\n",
       "..                               ...         ...        ...       ...\n",
       "155              Nakatsu_W97-2_model  108.809204  30.941585  0.962120\n",
       "156              Nakatsu_W98-1_model    0.460119   0.335955  0.998997\n",
       "157              Nakatsu_W98-2_model    4.161420   2.134124  0.990994\n",
       "158  Nakatsu_座間エンジン（1・2・4時区）-1_model    0.314931   0.243164  0.916189\n",
       "159      Nakatsu_座間エンジン（3時区）-2_model   11.198338   2.947592  0.998501\n",
       "\n",
       "[160 rows x 4 columns]"
      ]
     },
     "execution_count": 119,
     "metadata": {},
     "output_type": "execute_result"
    }
   ],
   "source": [
    "model_result = pd.read_csv('./data/model_result.csv', index_col=0)\n",
    "model_result"
   ]
  },
  {
   "cell_type": "code",
   "execution_count": 118,
   "id": "773bb2a3",
   "metadata": {},
   "outputs": [
    {
     "name": "stdout",
     "output_type": "stream",
     "text": [
      "Total Mean of MAE : 23.1458 min\n",
      "Best MAE : 0.24316 min\n",
      "Best MAE Model : Nakatsu_座間エンジン（1・2・4時区）-1_model\n",
      "Worst MAE : 371.52944 min\n",
      "Worst MAE Model : Atsugi_W46_model\n"
     ]
    }
   ],
   "source": [
    "print(f'Total Mean of MAE : {round(model_result[\"mae\"].mean(), 5)} min')\n",
    "print(f'Best MAE : {round(model_result[\"mae\"].min(), 5)} min')\n",
    "print(f'Best MAE Model : {model_result.loc[model_result[[\"mae\"]].idxmin()[\"mae\"], \"model\"]}')\n",
    "print(f'Worst MAE : {round(model_result[\"mae\"].max(), 5)} min')\n",
    "print(f'Worst MAE Model : {model_result.loc[model_result[[\"mae\"]].idxmax()[\"mae\"], \"model\"]}')"
   ]
  },
  {
   "cell_type": "code",
   "execution_count": 133,
   "id": "8fec033b",
   "metadata": {
    "scrolled": false
   },
   "outputs": [
    {
     "data": {
      "image/png": "[encoded data removed]",
      "text/plain": [
       "<Figure size 1500x1500 with 1 Axes>"
      ]
     },
     "metadata": {},
     "output_type": "display_data"
    },
    {
     "data": {
      "image/png": "[encoded data removed]",
      "text/plain": [
       "<Figure size 1500x1500 with 1 Axes>"
      ]
     },
     "metadata": {},
     "output_type": "display_data"
    },
    {
     "data": {
      "image/png": "[encoded data removed]",
      "text/plain": [
       "<Figure size 1500x1500 with 1 Axes>"
      ]
     },
     "metadata": {},
     "output_type": "display_data"
    },
    {
     "data": {
      "image/png": "[encoded data removed]",
      "text/plain": [
       "<Figure size 1500x1500 with 1 Axes>"
      ]
     },
     "metadata": {},
     "output_type": "display_data"
    }
   ],
   "source": [
    "# MAE plot of each model\n",
    "import matplotlib.font_manager as fm\n",
    "fprop = fm.FontProperties(fname='./data/NotoSansJP-Regular.otf')\n",
    "\n",
    "\n",
    "for i in ['Higashi', 'K1', 'Atsugi', 'Nakatsu']:\n",
    "    result = model_result[model_result['model'].str.contains(i)]\n",
    "    plt.figure(figsize=(15,15))\n",
    "    plt.bar(result['model'], result['mae'])\n",
    "    plt.xticks(fontproperties=fprop, fontsize=12, rotation=90)\n",
    "    plt.xlabel('Model')\n",
    "    plt.ylabel('MAE')\n",
    "    plt.ylim([0, 400])\n",
    "    plt.title(f'{i} Result')\n",
    "    plt.show()"
   ]
  },
  {
   "cell_type": "markdown",
   "id": "31dc87a7",
   "metadata": {},
   "source": [
    "# Execution"
   ]
  },
  {
   "cell_type": "code",
   "execution_count": 135,
   "id": "1a4c2b8f",
   "metadata": {},
   "outputs": [],
   "source": [
    "class Truck:\n",
    "    def __init__(self, df, dest, velocity_5sec_info, velocity_weekday_info):\n",
    "        self.df= df\n",
    "        self.prev_time = 0\n",
    "        self.prev_timestamp = 0\n",
    "        self.cum_distance =0\n",
    "        self.dest = dest\n",
    "        self.velocity_5sec_info = velocity_5sec_info\n",
    "        self.velocity_weekday_info = velocity_weekday_info\n",
    "\n",
    "    # def set_parameter(self,):\n",
    "    def set_initial_timestamp(self, timestamp):\n",
    "        if(self.prev_timestamp==0):\n",
    "            self.prev_timestamp = datetime.datetime.strptime(timestamp[:-6],'%Y-%m-%dt%H:%M:%S')\n",
    "    \n",
    "    def get_truck_cum_distance(self):\n",
    "        return self.cum_distance\n",
    "\n",
    "# Loads model that predicts ETA of the destination and vehicleCode you want to predict\n",
    "def get_model(destination, vehicleCode):\n",
    "    try:\n",
    "        model_path = f'models/{destination}_{vehicleCode}_model.model'\n",
    "        model = pickle.load(open(model_path, 'rb'))\n",
    "        return model\n",
    "    except:\n",
    "        print('❗️vehicleCode does not pass the destination❗️')\n",
    "\n",
    "# Get trip information features based on vehicleCode\n",
    "def get_initial_df(mean_route_info, vehicleCode):\n",
    "    df = pd.DataFrame(columns=['vehicleCode', 'lat', 'lng', 'timestamp', 'distance', 'cum_sum_distance','distance_btw_target',\\\n",
    "                               'del_time', 'velocity', 'weekday', 'velocity_mean_5sec', 'velocity_std_5sec', \\\n",
    "                               'velocity_mean_day', 'velocity_std_day', 'cum_sum', 'total_mean_distance', \\\n",
    "                               'total_mean_time'])\n",
    "    df.loc[0,'vehicleCode'] = vehicleCode\n",
    "    df.loc[0, 'total_mean_distance']= mean_route_info[mean_route_info['vehicleCode'] == vehicleCode]['total_distance_mean_vehicle'].iloc[0]\n",
    "    df.loc[0, 'total_mean_time']= mean_route_info[mean_route_info['vehicleCode'] == vehicleCode]['total_time_mean_vehicle'].iloc[0]\n",
    "    return df\n",
    "\n",
    "# Update features based on the real time data\n",
    "def update(truck):\n",
    "    truck.df = time_processing(truck.df)\n",
    "    truck = update_del_time(truck)\n",
    "    truck.df = update_velocity(truck.df)\n",
    "    truck.df = update_weekday(truck.df)\n",
    "    truck = update_cumsum_distance(truck)\n",
    "    truck = update_constant_value(truck)\n",
    "    truck.df = update_distance_btw_destination(truck.df,truck.dest)\n",
    "    return truck.df\n",
    "\n",
    "# Functions below are used to execute the 'update' function\n",
    "\n",
    "# Convert data type of the given timestamp, lat, lng values\n",
    "def time_processing(df):\n",
    "    df['timestamp'] = df['timestamp'].apply(lambda x: datetime.datetime.strptime(x[:-6], '%Y-%m-%dt%H:%M:%S'))\n",
    "    df['lat'] = df['lat'].astype(float)\n",
    "    df['lng'] = df['lng'].astype(float)\n",
    "    return df\n",
    "\n",
    "# Calculate the time interval between the given timestamp and previous timestamp\n",
    "def update_del_time(truck):\n",
    "    truck.df.loc[0,'del_time'] = (truck.df.loc[0,'timestamp'] - truck.prev_timestamp).seconds\n",
    "    truck.prev_timestamp = truck.df.loc[0,'timestamp']\n",
    "    return truck\n",
    "\n",
    "# Calclate current velocity using the given distance and del_time\n",
    "def update_velocity(df):\n",
    "    if(df.loc[0,'del_time']==0):\n",
    "        df.loc[0,'velocity']=0\n",
    "        return df\n",
    "    df.loc[0,'velocity'] = df.loc[0,'distance']/df.loc[0,'del_time']\n",
    "    return df\n",
    "\n",
    "# Extract weekday value from the given timestamp\n",
    "def update_weekday(df):\n",
    "    df['weekday'] = df['timestamp'].dt.weekday\n",
    "    return df\n",
    "\n",
    "# Calculate accumulated distance by adding the given distance\n",
    "def update_cumsum_distance(truck):\n",
    "    truck.cum_distance += truck.df['distance']\n",
    "    truck.df['cum_sum'] = truck.cum_distance\n",
    "    return truck\n",
    "\n",
    "# Get trip information features based on weekday and timestamp\n",
    "def update_constant_value(truck):\n",
    "    truck.df.loc[0,'velocity_mean_day'] = truck.velocity_weekday_info[truck.velocity_weekday_info['weekday']==truck.df.loc[0,'weekday']]['velocity_mean_weekday'].values[0]\n",
    "    truck.df.loc[0,'velocity_std_day'] = truck.velocity_weekday_info[truck.velocity_weekday_info['weekday']==truck.df.loc[0,'weekday']]['velocity_std_weekday'].values[0]\n",
    "\n",
    "    temp = str(truck.df.loc[0,'timestamp'].round('5s').time())\n",
    "    truck.df.loc[0, 'velocity_mean_5sec'] = \\\n",
    "    truck.velocity_5sec_info[truck.velocity_5sec_info['five_sec'] == temp]['velocity_mean_5sec'].values[0]\n",
    "\n",
    "    truck.df.loc[0, 'velocity_std_5sec'] = \\\n",
    "    truck.velocity_5sec_info[truck.velocity_5sec_info['five_sec'] == temp]['velocity_std_5sec'].values[0]\n",
    "    return truck\n",
    "\n",
    "# Calculate haversine distance between the given location and destination\n",
    "def update_distance_btw_destination(df,dest):\n",
    "    target_place = {}\n",
    "    target_place['Higashi'] = (35.50116466410529, 139.7705922117356) #\"Higashi-Ogishima\"\n",
    "    target_place['K1'] = (35.55769134902504, 139.66477025889324) #\"K1\"\n",
    "    target_place['Atsugi'] = (35.47115639628905, 139.36695126985464) #\"Atsugi\"\n",
    "    target_place['Nakatsu'] = (35.520388068094086, 139.3521451687072) #\"Nakatsu\"    \n",
    "    df.loc[0,'distance_btw_target'] = df[['lat','lng']].apply(lambda x : haversine((x),target_place[dest]),axis=1).iloc[0]\n",
    "    return df\n",
    "\n",
    "# Model prediction\n",
    "def predict_model(df, model):\n",
    "    using_predict_col = ['lat','lng','distance','cum_sum_distance','velocity','distance_btw_target','weekday','velocity_mean_5sec','velocity_std_5sec','velocity_mean_day','velocity_std_day','total_mean_distance','total_mean_time']\n",
    "    res = model.predict(df.loc[0, using_predict_col].values)\n",
    "    return res"
   ]
  },
  {
   "cell_type": "code",
   "execution_count": 148,
   "id": "76269634",
   "metadata": {
    "scrolled": true
   },
   "outputs": [
    {
     "name": "stdout",
     "output_type": "stream",
     "text": [
      "Enter Final Destination (Example : Higashi/K1/Atsugi/Nakatsu) Higashi\n",
      "Enter vehicleCode W110\n",
      "setting is done! ETA process started!\n",
      "-------------------------------------\n",
      "35.518716 139.352116 41.077926 2022-05-23T05:55:59+09:00\n",
      "left time : 384.4533900977771 minutes\n",
      "35.518716 139.352116 0.000000 2022-05-23T05:56:02+09:00\n",
      "left time : 385.14052492730843 minutes\n",
      "35.518710 139.351960 14.166152 2022-05-23T06:03:17+09:00\n",
      "left time : 376.8140454947062 minutes\n",
      "q\n"
     ]
    }
   ],
   "source": [
    "# 1. Enter final destination and vehicleCode you want to predict\n",
    "destination = input('Enter Final Destination (Example : Higashi/K1/Atsugi/Nakatsu) ')\n",
    "vehicleCode = input('Enter vehicleCode ')\n",
    "\n",
    "# 2. Load Model\n",
    "model = get_model(destination,vehicleCode)\n",
    "\n",
    "# 3. Load trip information based on previous data\n",
    "mean_route_info = pd.read_csv(\"./constant/constant_total_mean.csv\")\n",
    "velocity_5sec_info = pd.read_csv(\"./constant/constant_velocity_5sec.csv\")\n",
    "velocity_week_info = pd.read_csv(\"./constant/constant_velocity_week.csv\")\n",
    "\n",
    "# 4. Get trip information features based on vehicleCode\n",
    "df = get_initial_df(mean_route_info, vehicleCode)\n",
    "\n",
    "# 5. Generate Truck instance \n",
    "truck_instance = Truck(df,destination, velocity_5sec_info, velocity_week_info)\n",
    "\n",
    "\n",
    "print(\"setting is done! ETA process started!\")\n",
    "print(\"-------------------------------------\")\n",
    "\n",
    "# Once the data is given, features are updated automatically and the model returns the predicted left time to the destination in real time\n",
    "while(True):\n",
    "    \n",
    "    # 6. Enter data (latitude, longitude, distance, timestamp) collected from the gpsTracker\n",
    "    input_data = input()\n",
    "    \n",
    "    # 6-1. Enter 'q' to stop the process\n",
    "    if(input_data =='q'):\n",
    "        break\n",
    "\n",
    "    argv = input_data.split()\n",
    "\n",
    "    truck_instance.set_initial_timestamp(argv[3])\n",
    "\n",
    "    # 7. Update the values based on the given data\n",
    "    df.loc[0,'lat'] = argv[0]\n",
    "    df.loc[0,'lng'] = argv[1]\n",
    "    df.loc[0,'distance'] = float(argv[2])\n",
    "    df.loc[0,'timestamp'] = argv[3]\n",
    "\n",
    "    # 8. Update features for prediction\n",
    "    df = update(truck_instance)\n",
    "    \n",
    "    # 9. Real time prediction\n",
    "    res = predict_model(df, model)\n",
    "    print(\"left time : {} minutes\".format(res))"
   ]
  },
  {
   "cell_type": "markdown",
   "id": "31f467bf",
   "metadata": {},
   "source": [
    "**Input example**\n",
    "\n",
    "Enter Final Destination : Higashi <br>\n",
    "Enter vehicleCode : W110\n",
    "\n",
    "----------------------------\n",
    "\n",
    "35.518716 139.352116 41.077926 2022-05-23T05:55:59+09:00 <br>\n",
    "35.518716 139.352116 0.000000 2022-05-23T05:56:02+09:00 <br>\n",
    "35.518710 139.351960 14.166152 2022-05-23T06:03:17+09:00 <br>\n",
    "q"
   ]
  },
  {
   "cell_type": "code",
   "execution_count": 149,
   "id": "0c141423",
   "metadata": {},
   "outputs": [
    {
     "data": {
      "text/html": [
       "<div>\n",
       "<style scoped>\n",
       "    .dataframe tbody tr th:only-of-type {\n",
       "        vertical-align: middle;\n",
       "    }\n",
       "\n",
       "    .dataframe tbody tr th {\n",
       "        vertical-align: top;\n",
       "    }\n",
       "\n",
       "    .dataframe thead th {\n",
       "        text-align: right;\n",
       "    }\n",
       "</style>\n",
       "<table border=\"1\" class=\"dataframe\">\n",
       "  <thead>\n",
       "    <tr style=\"text-align: right;\">\n",
       "      <th></th>\n",
       "      <th>vehicleCode</th>\n",
       "      <th>lat</th>\n",
       "      <th>lng</th>\n",
       "      <th>timestamp</th>\n",
       "      <th>distance</th>\n",
       "      <th>left_time</th>\n",
       "    </tr>\n",
       "  </thead>\n",
       "  <tbody>\n",
       "    <tr>\n",
       "      <th>2388668</th>\n",
       "      <td>W110</td>\n",
       "      <td>35.518716</td>\n",
       "      <td>139.352116</td>\n",
       "      <td>2022-05-23 05:55:59</td>\n",
       "      <td>41.077926</td>\n",
       "      <td>378.0</td>\n",
       "    </tr>\n",
       "    <tr>\n",
       "      <th>2388669</th>\n",
       "      <td>W110</td>\n",
       "      <td>35.518716</td>\n",
       "      <td>139.352116</td>\n",
       "      <td>2022-05-23 05:56:02</td>\n",
       "      <td>0.000000</td>\n",
       "      <td>378.0</td>\n",
       "    </tr>\n",
       "    <tr>\n",
       "      <th>2388670</th>\n",
       "      <td>W110</td>\n",
       "      <td>35.518710</td>\n",
       "      <td>139.351960</td>\n",
       "      <td>2022-05-23 06:03:17</td>\n",
       "      <td>14.166152</td>\n",
       "      <td>371.0</td>\n",
       "    </tr>\n",
       "  </tbody>\n",
       "</table>\n",
       "</div>"
      ],
      "text/plain": [
       "        vehicleCode        lat         lng           timestamp   distance  \\\n",
       "2388668        W110  35.518716  139.352116 2022-05-23 05:55:59  41.077926   \n",
       "2388669        W110  35.518716  139.352116 2022-05-23 05:56:02   0.000000   \n",
       "2388670        W110  35.518710  139.351960 2022-05-23 06:03:17  14.166152   \n",
       "\n",
       "         left_time  \n",
       "2388668      378.0  \n",
       "2388669      378.0  \n",
       "2388670      371.0  "
      ]
     },
     "execution_count": 149,
     "metadata": {},
     "output_type": "execute_result"
    }
   ],
   "source": [
    "# Compare the predicted result with the actual left time below\n",
    "Higashi = target_df.loc[Higashi_data_index]\n",
    "Higashi = feature_engineering(Higashi, 1)\n",
    "Higashi[Higashi['vehicleCode']=='W110'][['vehicleCode','lat','lng','timestamp','distance','left_time']][3:6]"
   ]
  }
 ],
 "metadata": {
  "kernelspec": {
   "display_name": "Python 3",
   "language": "python",
   "name": "python3"
  },
  "language_info": {
   "codemirror_mode": {
    "name": "ipython",
    "version": 3
   },
   "file_extension": ".py",
   "mimetype": "text/x-python",
   "name": "python",
   "nbconvert_exporter": "python",
   "pygments_lexer": "ipython3",
   "version": "3.8.8"
  },
  "toc": {
   "base_numbering": 1,
   "nav_menu": {},
   "number_sections": true,
   "sideBar": true,
   "skip_h1_title": false,
   "title_cell": "Table of Contents",
   "title_sidebar": "Contents",
   "toc_cell": false,
   "toc_position": {
    "height": "calc(100% - 180px)",
    "left": "10px",
    "top": "150px",
    "width": "165px"
   },
   "toc_section_display": true,
   "toc_window_display": true
  }
 },
 "nbformat": 4,
 "nbformat_minor": 5
}
